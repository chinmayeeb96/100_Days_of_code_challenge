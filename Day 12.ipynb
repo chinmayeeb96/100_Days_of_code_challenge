{
 "cells": [
  {
   "cell_type": "markdown",
   "id": "d984c4d7",
   "metadata": {},
   "source": [
    "# Hyperparameter Optimization With Random Search and Grid Search"
   ]
  },
  {
   "cell_type": "code",
   "execution_count": null,
   "id": "dfc6d0ee",
   "metadata": {},
   "outputs": [],
   "source": []
  }
 ],
 "metadata": {
  "kernelspec": {
   "display_name": "Python 3",
   "language": "python",
   "name": "python3"
  },
  "language_info": {
   "codemirror_mode": {
    "name": "ipython",
    "version": 3
   },
   "file_extension": ".py",
   "mimetype": "text/x-python",
   "name": "python",
   "nbconvert_exporter": "python",
   "pygments_lexer": "ipython3",
   "version": "3.8.8"
  }
 },
 "nbformat": 4,
 "nbformat_minor": 5
}
