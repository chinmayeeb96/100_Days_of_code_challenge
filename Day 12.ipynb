{
 "cells": [
  {
   "cell_type": "markdown",
   "id": "fd28cb12",
   "metadata": {},
   "source": [
    "# Hyperparameter Optimization With Random Search and Grid Search"
   ]
  },
  {
   "cell_type": "markdown",
   "id": "8b24754e",
   "metadata": {},
   "source": [
    "## Random search logistic regression model on the sonar dataset"
   ]
  },
  {
   "cell_type": "code",
   "execution_count": 1,
   "id": "cf733bd2",
   "metadata": {},
   "outputs": [],
   "source": [
    "from scipy.stats import loguniform\n",
    "from pandas import read_csv\n",
    "from sklearn.linear_model import LogisticRegression\n",
    "from sklearn.model_selection import RepeatedStratifiedKFold\n",
    "from sklearn.model_selection import RandomizedSearchCV"
   ]
  },
  {
   "cell_type": "code",
   "execution_count": 2,
   "id": "c7c8fbad",
   "metadata": {},
   "outputs": [],
   "source": [
    "url = \"https://raw.githubusercontent.com/jbrownlee/Datasets/master/sonar.csv\"\n",
    "df = read_csv(url, header=None)\n",
    "data = df.values\n",
    "X, y = data[:,:-1], data[:, -1]\n",
    "model = LogisticRegression()\n",
    "cv = RepeatedStratifiedKFold(n_splits= 10, n_repeats=3, random_state=1)\n",
    "space = dict()\n",
    "space['solver'] = ['newton-cg', 'lbfgs', 'liblinear']\n",
    "space['penalty'] = ['none', 'l1', 'l2', 'elasticnet']\n",
    "space['C'] = loguniform(1e-5, 100)\n"
   ]
  },
  {
   "cell_type": "code",
   "execution_count": null,
   "id": "937ca9d4",
   "metadata": {},
   "outputs": [],
   "source": [
    "search = RandomizedSearchCV(model, space, n_iter=500, scoring = 'accuracy', n_jobs=-1)\n",
    "result = search.fit(X,y)\n",
    "\n",
    "print('Best score: %s' % result.best_score_)\n",
    "print('Best Hyperparameters: %s' % result.best_params_)"
   ]
  },
  {
   "cell_type": "code",
   "execution_count": null,
   "id": "da9e449f",
   "metadata": {},
   "outputs": [],
   "source": []
  }
 ],
 "metadata": {
  "kernelspec": {
   "display_name": "Python 3",
   "language": "python",
   "name": "python3"
  },
  "language_info": {
   "codemirror_mode": {
    "name": "ipython",
    "version": 3
   },
   "file_extension": ".py",
   "mimetype": "text/x-python",
   "name": "python",
   "nbconvert_exporter": "python",
   "pygments_lexer": "ipython3",
   "version": "3.8.8"
  }
 },
 "nbformat": 4,
 "nbformat_minor": 5
}
