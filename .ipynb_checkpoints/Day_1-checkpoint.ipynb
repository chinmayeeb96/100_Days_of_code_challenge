{
 "cells": [
  {
   "cell_type": "markdown",
   "id": "5ef7ee92",
   "metadata": {},
   "source": [
    "# Day 1"
   ]
  },
  {
   "cell_type": "markdown",
   "id": "809ee32e",
   "metadata": {},
   "source": [
    "## An object-oriented perceptron API"
   ]
  },
  {
   "cell_type": "code",
   "execution_count": 1,
   "id": "1f3c4521",
   "metadata": {},
   "outputs": [],
   "source": [
    "import numpy as np\n",
    "\n",
    "\n",
    "class Perceptron:\n",
    "    \"\"\"Perceptron classifier.\n",
    "\n",
    "    Parameters\n",
    "    ------------\n",
    "    eta : float\n",
    "      Learning rate (between 0.0 and 1.0)\n",
    "    n_iter : int\n",
    "      Passes over the training dataset.\n",
    "    random_state : int\n",
    "      Random number generator seed for random weight\n",
    "      initialization.\n",
    "\n",
    "    Attributes\n",
    "    -----------\n",
    "    w_ : 1d-array\n",
    "      Weights after fitting.\n",
    "    b_ : Scalar\n",
    "      Bias unit after fitting.\n",
    "    errors_ : list\n",
    "      Number of misclassifications (updates) in each epoch.\n",
    "\n",
    "    \"\"\"\n",
    "    def __init__(self, eta=0.05, n_iter=50, random_state=1):\n",
    "        self.eta = eta\n",
    "        self.n_iter = n_iter\n",
    "        self.random_state = random_state\n",
    "\n",
    "    def fit(self, X, y):\n",
    "        \"\"\"Fit training data.\n",
    "\n",
    "        Parameters\n",
    "        ----------\n",
    "        X : {array-like}, shape = [n_examples, n_features]\n",
    "          Training vectors, where n_examples is the number of examples and\n",
    "          n_features is the number of features.\n",
    "        y : array-like, shape = [n_examples]\n",
    "          Target values.\n",
    "\n",
    "        Returns\n",
    "        -------\n",
    "        self : object\n",
    "\n",
    "        \"\"\"\n",
    "        rgen = np.random.RandomState(self.random_state)\n",
    "        self.w_ = np.zeros(X.shape[1])\n",
    "        self.b_ = np.float_(0.)\n",
    "        \n",
    "        self.errors_ = []\n",
    "\n",
    "        for _ in range(self.n_iter):\n",
    "            errors = 0\n",
    "            for xi, target in zip(X, y):\n",
    "                update = self.eta * (target - self.predict(xi))\n",
    "                self.w_ += update * xi\n",
    "                self.b_ += update\n",
    "                errors += int(update != 0.0)\n",
    "            self.errors_.append(errors)\n",
    "        return self\n",
    "\n",
    "    def net_input(self, X):\n",
    "        \"\"\"Calculate net input\"\"\"\n",
    "        return np.dot(X, self.w_) + self.b_\n",
    "\n",
    "    def predict(self, X):\n",
    "        \"\"\"Return class label after unit step\"\"\"\n",
    "        return np.where(self.net_input(X) >= 0.0, 1, 0)"
   ]
  },
  {
   "cell_type": "markdown",
   "id": "91803ac5",
   "metadata": {},
   "source": [
    "# Day 2"
   ]
  },
  {
   "cell_type": "markdown",
   "id": "6ff36cc4",
   "metadata": {},
   "source": [
    "## Training a perceptron model on the Iris dataset"
   ]
  },
  {
   "cell_type": "markdown",
   "id": "c48eb370",
   "metadata": {},
   "source": [
    "### Import the data"
   ]
  },
  {
   "cell_type": "code",
   "execution_count": 2,
   "id": "d28e5c14",
   "metadata": {},
   "outputs": [
    {
     "name": "stdout",
     "output_type": "stream",
     "text": [
      "From URL: https://archive.ics.uci.edu/ml/machine-learning-databases/iris/iris.data\n",
      "       0    1    2    3                4\n",
      "90   5.5  2.6  4.4  1.2  Iris-versicolor\n",
      "91   6.1  3.0  4.6  1.4  Iris-versicolor\n",
      "92   5.8  2.6  4.0  1.2  Iris-versicolor\n",
      "93   5.0  2.3  3.3  1.0  Iris-versicolor\n",
      "94   5.6  2.7  4.2  1.3  Iris-versicolor\n",
      "95   5.7  3.0  4.2  1.2  Iris-versicolor\n",
      "96   5.7  2.9  4.2  1.3  Iris-versicolor\n",
      "97   6.2  2.9  4.3  1.3  Iris-versicolor\n",
      "98   5.1  2.5  3.0  1.1  Iris-versicolor\n",
      "99   5.7  2.8  4.1  1.3  Iris-versicolor\n",
      "100  6.3  3.3  6.0  2.5   Iris-virginica\n",
      "101  5.8  2.7  5.1  1.9   Iris-virginica\n",
      "102  7.1  3.0  5.9  2.1   Iris-virginica\n",
      "103  6.3  2.9  5.6  1.8   Iris-virginica\n",
      "104  6.5  3.0  5.8  2.2   Iris-virginica\n",
      "105  7.6  3.0  6.6  2.1   Iris-virginica\n",
      "106  4.9  2.5  4.5  1.7   Iris-virginica\n",
      "107  7.3  2.9  6.3  1.8   Iris-virginica\n",
      "108  6.7  2.5  5.8  1.8   Iris-virginica\n",
      "109  7.2  3.6  6.1  2.5   Iris-virginica\n",
      "110  6.5  3.2  5.1  2.0   Iris-virginica\n",
      "111  6.4  2.7  5.3  1.9   Iris-virginica\n",
      "112  6.8  3.0  5.5  2.1   Iris-virginica\n",
      "113  5.7  2.5  5.0  2.0   Iris-virginica\n",
      "114  5.8  2.8  5.1  2.4   Iris-virginica\n",
      "115  6.4  3.2  5.3  2.3   Iris-virginica\n",
      "116  6.5  3.0  5.5  1.8   Iris-virginica\n",
      "117  7.7  3.8  6.7  2.2   Iris-virginica\n",
      "118  7.7  2.6  6.9  2.3   Iris-virginica\n",
      "119  6.0  2.2  5.0  1.5   Iris-virginica\n",
      "120  6.9  3.2  5.7  2.3   Iris-virginica\n",
      "121  5.6  2.8  4.9  2.0   Iris-virginica\n",
      "122  7.7  2.8  6.7  2.0   Iris-virginica\n",
      "123  6.3  2.7  4.9  1.8   Iris-virginica\n",
      "124  6.7  3.3  5.7  2.1   Iris-virginica\n",
      "125  7.2  3.2  6.0  1.8   Iris-virginica\n",
      "126  6.2  2.8  4.8  1.8   Iris-virginica\n",
      "127  6.1  3.0  4.9  1.8   Iris-virginica\n",
      "128  6.4  2.8  5.6  2.1   Iris-virginica\n",
      "129  7.2  3.0  5.8  1.6   Iris-virginica\n",
      "130  7.4  2.8  6.1  1.9   Iris-virginica\n",
      "131  7.9  3.8  6.4  2.0   Iris-virginica\n",
      "132  6.4  2.8  5.6  2.2   Iris-virginica\n",
      "133  6.3  2.8  5.1  1.5   Iris-virginica\n",
      "134  6.1  2.6  5.6  1.4   Iris-virginica\n",
      "135  7.7  3.0  6.1  2.3   Iris-virginica\n",
      "136  6.3  3.4  5.6  2.4   Iris-virginica\n",
      "137  6.4  3.1  5.5  1.8   Iris-virginica\n",
      "138  6.0  3.0  4.8  1.8   Iris-virginica\n",
      "139  6.9  3.1  5.4  2.1   Iris-virginica\n",
      "140  6.7  3.1  5.6  2.4   Iris-virginica\n",
      "141  6.9  3.1  5.1  2.3   Iris-virginica\n",
      "142  5.8  2.7  5.1  1.9   Iris-virginica\n",
      "143  6.8  3.2  5.9  2.3   Iris-virginica\n",
      "144  6.7  3.3  5.7  2.5   Iris-virginica\n",
      "145  6.7  3.0  5.2  2.3   Iris-virginica\n",
      "146  6.3  2.5  5.0  1.9   Iris-virginica\n",
      "147  6.5  3.0  5.2  2.0   Iris-virginica\n",
      "148  6.2  3.4  5.4  2.3   Iris-virginica\n",
      "149  5.9  3.0  5.1  1.8   Iris-virginica\n",
      "      0    1    2    3                4\n",
      "0   5.1  3.5  1.4  0.2      Iris-setosa\n",
      "1   4.9  3.0  1.4  0.2      Iris-setosa\n",
      "2   4.7  3.2  1.3  0.2      Iris-setosa\n",
      "3   4.6  3.1  1.5  0.2      Iris-setosa\n",
      "4   5.0  3.6  1.4  0.2      Iris-setosa\n",
      "5   5.4  3.9  1.7  0.4      Iris-setosa\n",
      "6   4.6  3.4  1.4  0.3      Iris-setosa\n",
      "7   5.0  3.4  1.5  0.2      Iris-setosa\n",
      "8   4.4  2.9  1.4  0.2      Iris-setosa\n",
      "9   4.9  3.1  1.5  0.1      Iris-setosa\n",
      "10  5.4  3.7  1.5  0.2      Iris-setosa\n",
      "11  4.8  3.4  1.6  0.2      Iris-setosa\n",
      "12  4.8  3.0  1.4  0.1      Iris-setosa\n",
      "13  4.3  3.0  1.1  0.1      Iris-setosa\n",
      "14  5.8  4.0  1.2  0.2      Iris-setosa\n",
      "15  5.7  4.4  1.5  0.4      Iris-setosa\n",
      "16  5.4  3.9  1.3  0.4      Iris-setosa\n",
      "17  5.1  3.5  1.4  0.3      Iris-setosa\n",
      "18  5.7  3.8  1.7  0.3      Iris-setosa\n",
      "19  5.1  3.8  1.5  0.3      Iris-setosa\n",
      "20  5.4  3.4  1.7  0.2      Iris-setosa\n",
      "21  5.1  3.7  1.5  0.4      Iris-setosa\n",
      "22  4.6  3.6  1.0  0.2      Iris-setosa\n",
      "23  5.1  3.3  1.7  0.5      Iris-setosa\n",
      "24  4.8  3.4  1.9  0.2      Iris-setosa\n",
      "25  5.0  3.0  1.6  0.2      Iris-setosa\n",
      "26  5.0  3.4  1.6  0.4      Iris-setosa\n",
      "27  5.2  3.5  1.5  0.2      Iris-setosa\n",
      "28  5.2  3.4  1.4  0.2      Iris-setosa\n",
      "29  4.7  3.2  1.6  0.2      Iris-setosa\n",
      "30  4.8  3.1  1.6  0.2      Iris-setosa\n",
      "31  5.4  3.4  1.5  0.4      Iris-setosa\n",
      "32  5.2  4.1  1.5  0.1      Iris-setosa\n",
      "33  5.5  4.2  1.4  0.2      Iris-setosa\n",
      "34  4.9  3.1  1.5  0.1      Iris-setosa\n",
      "35  5.0  3.2  1.2  0.2      Iris-setosa\n",
      "36  5.5  3.5  1.3  0.2      Iris-setosa\n",
      "37  4.9  3.1  1.5  0.1      Iris-setosa\n",
      "38  4.4  3.0  1.3  0.2      Iris-setosa\n",
      "39  5.1  3.4  1.5  0.2      Iris-setosa\n",
      "40  5.0  3.5  1.3  0.3      Iris-setosa\n",
      "41  4.5  2.3  1.3  0.3      Iris-setosa\n",
      "42  4.4  3.2  1.3  0.2      Iris-setosa\n",
      "43  5.0  3.5  1.6  0.6      Iris-setosa\n",
      "44  5.1  3.8  1.9  0.4      Iris-setosa\n",
      "45  4.8  3.0  1.4  0.3      Iris-setosa\n",
      "46  5.1  3.8  1.6  0.2      Iris-setosa\n",
      "47  4.6  3.2  1.4  0.2      Iris-setosa\n",
      "48  5.3  3.7  1.5  0.2      Iris-setosa\n",
      "49  5.0  3.3  1.4  0.2      Iris-setosa\n",
      "50  7.0  3.2  4.7  1.4  Iris-versicolor\n",
      "51  6.4  3.2  4.5  1.5  Iris-versicolor\n",
      "52  6.9  3.1  4.9  1.5  Iris-versicolor\n",
      "53  5.5  2.3  4.0  1.3  Iris-versicolor\n",
      "54  6.5  2.8  4.6  1.5  Iris-versicolor\n",
      "55  5.7  2.8  4.5  1.3  Iris-versicolor\n",
      "56  6.3  3.3  4.7  1.6  Iris-versicolor\n",
      "57  4.9  2.4  3.3  1.0  Iris-versicolor\n",
      "58  6.6  2.9  4.6  1.3  Iris-versicolor\n",
      "59  5.2  2.7  3.9  1.4  Iris-versicolor\n"
     ]
    }
   ],
   "source": [
    "import os\n",
    "import pandas as pd\n",
    "\n",
    "s = \"https://archive.ics.uci.edu/ml/machine-learning-databases/iris/iris.data\"''\n",
    "print('From URL:',s)\n",
    "df = pd.read_csv(s, header=None, encoding='utf-8')\n",
    "\n",
    "print(df.tail(60))\n",
    "print(df.head(60))\n"
   ]
  },
  {
   "cell_type": "markdown",
   "id": "381f4445",
   "metadata": {},
   "source": [
    "### Plotting the Iris dataset"
   ]
  },
  {
   "cell_type": "code",
   "execution_count": 3,
   "id": "4688119b",
   "metadata": {},
   "outputs": [
    {
     "data": {
      "image/png": "[encoded data removed]",
      "text/plain": [
       "<Figure size 432x288 with 1 Axes>"
      ]
     },
     "metadata": {
      "needs_background": "light"
     },
     "output_type": "display_data"
    }
   ],
   "source": [
    "%matplotlib inline\n",
    "import matplotlib.pyplot as plt\n",
    "import numpy as np\n",
    "\n",
    "# we want to select setosa and versicolor in the target\n",
    "y = df.iloc[0:100,4].values\n",
    "y = np.where(y == 'Iris-setosa', 0, 1)\n",
    "\n",
    "# only using sepal length and petal length features\n",
    "X = df.iloc[0:100,[0,2]].values\n",
    "\n",
    "# plotting data\n",
    "\n",
    "plt.scatter(X[:50,0], X[:50,1], color='red', marker='s', label='setosa')\n",
    "plt.scatter(X[50:100,0], X[50:100,1], color='green', marker='o', label='versicolor')\n",
    "\n",
    "plt.xlabel('Sepal length [cm]')\n",
    "plt.ylabel('Petal length [cm]')\n",
    "plt.legend(loc='upper left')\n",
    "\n",
    "plt.show()"
   ]
  },
  {
   "cell_type": "markdown",
   "id": "07292815",
   "metadata": {},
   "source": [
    "### Training the perceptron model"
   ]
  },
  {
   "cell_type": "code",
   "execution_count": 4,
   "id": "664de61c",
   "metadata": {},
   "outputs": [
    {
     "data": {
      "image/png": "[encoded data removed]",
      "text/plain": [
       "<Figure size 432x288 with 1 Axes>"
      ]
     },
     "metadata": {
      "needs_background": "light"
     },
     "output_type": "display_data"
    }
   ],
   "source": [
    "ppn = Perceptron(eta=0.1, n_iter=10)\n",
    "ppn.fit(X,y)\n",
    "\n",
    "plt.plot(range(1, len(ppn.errors_) + 1), ppn.errors_, marker='o')\n",
    "plt.xlabel('Epochs')\n",
    "plt.ylabel('Number of updates')\n",
    "\n",
    "\n",
    "plt.show()\n"
   ]
  },
  {
   "cell_type": "markdown",
   "id": "87a3674e",
   "metadata": {},
   "source": [
    "### Function for plotting decision region"
   ]
  },
  {
   "cell_type": "code",
   "execution_count": 5,
   "id": "81865b08",
   "metadata": {},
   "outputs": [],
   "source": [
    "from matplotlib.colors import ListedColormap\n",
    "\n",
    "def plot_decision_regions(X, y, classifier, resolution = 0.02):\n",
    "    \n",
    "    # setting up marker generator and color map\n",
    "    markers = ('o','s','^','v','<')\n",
    "    colors = ('red', 'blue', 'lightgreen', 'gray', 'cyan')\n",
    "    cmap = ListedColormap(colors[:len(np.unique(y))])\n",
    "    \n",
    "    # plotting the decision surface\n",
    "    \n",
    "    x1_min, x1_max = X[:, 0].min() - 1, X[:, 0].max() + 1\n",
    "    x2_min, x2_max = X[:, 1].min() - 1, X[:, 1].max() + 1\n",
    "    xx1, xx2 = np.meshgrid(np.arange(x1_min, x1_max, resolution),\n",
    "                           np.arange(x2_min, x2_max, resolution))\n",
    "    lab = classifier.predict(np.array([xx1.ravel(), xx2.ravel()]).T)\n",
    "    lab = lab.reshape(xx1.shape)\n",
    "    plt.contourf(xx1, xx2, lab, alpha=0.3, cmap=cmap)\n",
    "    plt.xlim(xx1.min(), xx1.max())\n",
    "    plt.ylim(xx2.min(), xx2.max())\n",
    "\n",
    "    # plot class examples\n",
    "    for idx, cl in enumerate(np.unique(y)):\n",
    "        plt.scatter(x=X[y == cl, 0], \n",
    "                    y=X[y == cl, 1],\n",
    "                    alpha=0.8, \n",
    "                    c=colors[idx],\n",
    "                    marker=markers[idx], \n",
    "                    label=f'Class {cl}', \n",
    "                    edgecolor='black')\n",
    "    \n",
    "    \n",
    "    "
   ]
  },
  {
   "cell_type": "code",
   "execution_count": 6,
   "id": "903d7b38",
   "metadata": {},
   "outputs": [
    {
     "data": {
      "image/png": "[encoded data removed]",
      "text/plain": [
       "<Figure size 432x288 with 1 Axes>"
      ]
     },
     "metadata": {
      "needs_background": "light"
     },
     "output_type": "display_data"
    }
   ],
   "source": [
    "plot_decision_regions(X, y, classifier=ppn)\n",
    "plt.xlabel('Sepal length [cm]')\n",
    "plt.ylabel('Petal length [cm]')\n",
    "plt.legend(loc='upper left')\n",
    "\n",
    "\n",
    "\n",
    "plt.show()"
   ]
  },
  {
   "cell_type": "code",
   "execution_count": null,
   "id": "e866baa2",
   "metadata": {},
   "outputs": [
    {
     "name": "stdout",
     "output_type": "stream",
     "text": [
      "--2022-03-10 16:39:46--  https://archive.ics.uci.edu/ml/machine-learning-databases/00199/MiniBooNE_PID.txt\n",
      "Resolving archive.ics.uci.edu (archive.ics.uci.edu)... 128.195.10.252\n",
      "Connecting to archive.ics.uci.edu (archive.ics.uci.edu)|128.195.10.252|:443... connected.\n",
      "HTTP request sent, awaiting response... 200 OK\n",
      "Length: 91174877 (87M) [application/x-httpd-php]\n",
      "Saving to: ‘data.txt’\n",
      "\n",
      "data.txt              2%[                    ]   2.05M  37.9KB/s    eta 36m 21s"
     ]
    }
   ],
   "source": [
    "! wget -O data.txt -nc --no-check-certificate  https://archive.ics.uci.edu/ml/machine-learning-databases/00199/MiniBooNE_PID.txt"
   ]
  },
  {
   "cell_type": "code",
   "execution_count": null,
   "id": "9038400b",
   "metadata": {},
   "outputs": [],
   "source": [
    "import pandas as pd\n",
    "import numpy as np\n",
    "from sklearn.model_selection import train_test_split\n",
    "from sklearn.model_selection import GridSearchCV\n",
    "from sklearn.preprocessing import MinMaxScaler"
   ]
  },
  {
   "cell_type": "code",
   "execution_count": null,
   "id": "0240b16c",
   "metadata": {},
   "outputs": [],
   "source": [
    "df = pd.read_csv('data.txt',sep = ' ',header = None, skiprows=1, skipinitialspace=True)\n",
    "df.head()"
   ]
  },
  {
   "cell_type": "code",
   "execution_count": null,
   "id": "b8430026",
   "metadata": {},
   "outputs": [],
   "source": [
    "# feature scaling\n",
    "\n",
    "f = open(\"data.txt\",'r')\n",
    "line = f.readline()\n",
    "f.close()\n",
    "l = line.split()\n",
    "Y = int(l[0])*[1] + int(l[1])*[0]\n",
    "y = np.array(Y)\n",
    "X = np.array(df)\n",
    "scaler = MinMaxScaler()\n",
    "scaler.fit(X)\n",
    "X = scaler.transform(X)"
   ]
  },
  {
   "cell_type": "code",
   "execution_count": null,
   "id": "1f812138",
   "metadata": {},
   "outputs": [],
   "source": [
    "%matplotlib inline\n",
    "import matplotlib.pyplot as plt\n",
    "import numpy as np\n",
    "\n",
    "y = y[0:80000]\n",
    "\n",
    "# only using first two features\n",
    "X = X[0:80000,[0,2]]\n",
    "\n",
    "# plotting data\n",
    "\n",
    "plt.scatter(X[:36499,0], X[:36499,1], color='red', marker='s', label='signal')\n",
    "plt.scatter(X[36499:80000,0], X[36499:80000,1], color='green', marker='o', label='background')\n",
    "\n",
    "plt.xlabel('feature1')\n",
    "plt.ylabel('feature2')\n",
    "plt.legend(loc='upper left')\n",
    "\n",
    "plt.show()"
   ]
  },
  {
   "cell_type": "code",
   "execution_count": null,
   "id": "716e76a3",
   "metadata": {},
   "outputs": [],
   "source": [
    "ppn = Perceptron(eta=0.1, n_iter=10)\n",
    "ppn.fit(X,y)\n",
    "\n",
    "plt.plot(range(1, len(ppn.errors_) + 1), ppn.errors_, marker='o')\n",
    "plt.xlabel('Epochs')\n",
    "plt.ylabel('Number of updates')\n",
    "\n",
    "\n",
    "plt.show()\n"
   ]
  },
  {
   "cell_type": "code",
   "execution_count": null,
   "id": "1f727470",
   "metadata": {},
   "outputs": [],
   "source": [
    "from matplotlib.colors import ListedColormap\n",
    "\n",
    "def plot_decision_regions(X, y, classifier, resolution = 0.02):\n",
    "    \n",
    "    # setting up marker generator and color map\n",
    "    markers = ('o','s','^','v','<')\n",
    "    colors = ('red', 'blue', 'lightgreen', 'gray', 'cyan')\n",
    "    cmap = ListedColormap(colors[:len(np.unique(y))])\n",
    "    \n",
    "    # plotting the decision surface\n",
    "    \n",
    "    x1_min, x1_max = X[:, 0].min() - 1, X[:, 0].max() + 1\n",
    "    x2_min, x2_max = X[:, 1].min() - 1, X[:, 1].max() + 1\n",
    "    xx1, xx2 = np.meshgrid(np.arange(x1_min, x1_max, resolution),\n",
    "                           np.arange(x2_min, x2_max, resolution))\n",
    "    lab = classifier.predict(np.array([xx1.ravel(), xx2.ravel()]).T)\n",
    "    lab = lab.reshape(xx1.shape)\n",
    "    plt.contourf(xx1, xx2, lab, alpha=0.3, cmap=cmap)\n",
    "    plt.xlim(xx1.min(), xx1.max())\n",
    "    plt.ylim(xx2.min(), xx2.max())\n",
    "\n",
    "    # plot class examples\n",
    "    for idx, cl in enumerate(np.unique(y)):\n",
    "        plt.scatter(x=X[y == cl, 0], \n",
    "                    y=X[y == cl, 1],\n",
    "                    alpha=0.8, \n",
    "                    c=colors[idx],\n",
    "                    marker=markers[idx], \n",
    "                    label=f'Class {cl}', \n",
    "                    edgecolor='black')\n",
    "    "
   ]
  },
  {
   "cell_type": "code",
   "execution_count": null,
   "id": "af158b07",
   "metadata": {},
   "outputs": [],
   "source": [
    "plot_decision_regions(X, y, classifier=ppn)\n",
    "plt.xlabel('feature_1')\n",
    "plt.ylabel('feature_2')\n",
    "plt.legend(loc='upper left')\n",
    "\n",
    "\n",
    "\n",
    "plt.show()"
   ]
  },
  {
   "cell_type": "code",
   "execution_count": null,
   "id": "57a958b6",
   "metadata": {},
   "outputs": [],
   "source": []
  }
 ],
 "metadata": {
  "kernelspec": {
   "display_name": "Python 3",
   "language": "python",
   "name": "python3"
  },
  "language_info": {
   "codemirror_mode": {
    "name": "ipython",
    "version": 3
   },
   "file_extension": ".py",
   "mimetype": "text/x-python",
   "name": "python",
   "nbconvert_exporter": "python",
   "pygments_lexer": "ipython3",
   "version": "3.8.8"
  }
 },
 "nbformat": 4,
 "nbformat_minor": 5
}
