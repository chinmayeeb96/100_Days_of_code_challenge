{
 "cells": [
  {
   "cell_type": "markdown",
   "id": "e348f386",
   "metadata": {},
   "source": [
    "## Filtering a TimeSeries to detect gravitational waves"
   ]
  },
  {
   "cell_type": "markdown",
   "id": "d8c69314",
   "metadata": {},
   "source": [
    "##### The raw ‘strain’ output of the LIGO detectors is recorded as a TimeSeries with contributions from a large number of known and unknown noise sources, as well as possible gravitational wave signals.\n",
    "\n",
    "In order to uncover a real signal we need to filter out noises that otherwise hide the signal in the data. We can do this by using the gwpy.signal module to design a digital filter to cut out low and high frequency noise, as well as notch out fixed frequencies polluted by known artefacts."
   ]
  },
  {
   "cell_type": "code",
   "execution_count": null,
   "id": "c474cb18",
   "metadata": {},
   "outputs": [],
   "source": [
    "from gwpy.timeseries import TimeSeries\n",
    "hdata = TimeSeries.fetch_open_data('H1', 1126259446, 1126259478)"
   ]
  },
  {
   "cell_type": "code",
   "execution_count": null,
   "id": "63a01ba9",
   "metadata": {},
   "outputs": [],
   "source": [
    "from gwpy.signal import filter_design\n",
    "bp = filter_design.bandpass(50, 250, hdata.sample_rate)"
   ]
  },
  {
   "cell_type": "code",
   "execution_count": null,
   "id": "e86968a1",
   "metadata": {},
   "outputs": [],
   "source": [
    "notches = [filter_design.notch(line, hdata.sample_rate) for\n",
    "           line in (60, 120, 180)]"
   ]
  },
  {
   "cell_type": "code",
   "execution_count": null,
   "id": "a6dd01ea",
   "metadata": {},
   "outputs": [],
   "source": [
    "zpk = filter_design.concatenate_zpks(bp, *notches)"
   ]
  },
  {
   "cell_type": "code",
   "execution_count": null,
   "id": "2cb6719d",
   "metadata": {},
   "outputs": [],
   "source": [
    "hfilt = hdata.filter(zpk, filtfilt=True)"
   ]
  },
  {
   "cell_type": "code",
   "execution_count": null,
   "id": "ff39a6fa",
   "metadata": {},
   "outputs": [],
   "source": [
    "hdata = hdata.crop(*hdata.span.contract(1))\n",
    "hfilt = hfilt.crop(*hfilt.span.contract(1))"
   ]
  },
  {
   "cell_type": "code",
   "execution_count": null,
   "id": "787a1208",
   "metadata": {},
   "outputs": [],
   "source": [
    "from gwpy.plot import Plot\n",
    "plot = Plot(hdata, hfilt, figsize=[12, 6], separate=True, sharex=True,\n",
    "            color='gwpy:ligo-hanford')\n",
    "ax1, ax2 = plot.axes\n",
    "ax1.set_title('LIGO-Hanford strain data around GW150914')\n",
    "ax1.text(1.0, 1.01, 'Unfiltered data', transform=ax1.transAxes, ha='right')\n",
    "ax1.set_ylabel('Amplitude [strain]', y=-0.2)\n",
    "ax2.set_ylabel('')\n",
    "ax2.text(1.0, 1.01, r'50-250\\,Hz bandpass, notches at 60, 120, 180 Hz',\n",
    "         transform=ax2.transAxes, ha='right')\n",
    "plot.show()"
   ]
  },
  {
   "cell_type": "code",
   "execution_count": null,
   "id": "02f31dee",
   "metadata": {},
   "outputs": [],
   "source": [
    "plot = hfilt.plot(color='gwpy:ligo-hanford')\n",
    "ax = plot.gca()\n",
    "ax.set_title('LIGO-Hanford strain data around GW150914')\n",
    "ax.set_ylabel('Amplitude [strain]')\n",
    "ax.set_xlim(1126259462, 1126259462.6)\n",
    "ax.set_xscale('seconds', epoch=1126259462)\n",
    "plot.show()"
   ]
  },
  {
   "cell_type": "code",
   "execution_count": null,
   "id": "e4a90834",
   "metadata": {},
   "outputs": [],
   "source": [
    "ldata = TimeSeries.fetch_open_data('L1', 1126259446, 1126259478)\n",
    "lfilt = ldata.filter(zpk, filtfilt=True)"
   ]
  },
  {
   "cell_type": "code",
   "execution_count": null,
   "id": "046832a3",
   "metadata": {},
   "outputs": [],
   "source": [
    "lfilt.shift('6.9ms')\n",
    "lfilt *= -1"
   ]
  },
  {
   "cell_type": "code",
   "execution_count": null,
   "id": "663efdba",
   "metadata": {},
   "outputs": [],
   "source": [
    "plot = Plot(figsize=[12, 4])\n",
    "ax = plot.gca()\n",
    "ax.plot(hfilt, label='LIGO-Hanford', color='gwpy:ligo-hanford')\n",
    "ax.plot(lfilt, label='LIGO-Livingston', color='gwpy:ligo-livingston')\n",
    "ax.set_title('LIGO strain data around GW150914')\n",
    "ax.set_xlim(1126259462, 1126259462.6)\n",
    "ax.set_xscale('seconds', epoch=1126259462)\n",
    "ax.set_ylabel('Amplitude [strain]')\n",
    "ax.set_ylim(-1e-21, 1e-21)\n",
    "ax.legend()\n",
    "plot.show()"
   ]
  }
 ],
 "metadata": {
  "kernelspec": {
   "display_name": "Python 3",
   "language": "python",
   "name": "python3"
  },
  "language_info": {
   "codemirror_mode": {
    "name": "ipython",
    "version": 3
   },
   "file_extension": ".py",
   "mimetype": "text/x-python",
   "name": "python",
   "nbconvert_exporter": "python",
   "pygments_lexer": "ipython3",
   "version": "3.8.8"
  }
 },
 "nbformat": 4,
 "nbformat_minor": 5
}
