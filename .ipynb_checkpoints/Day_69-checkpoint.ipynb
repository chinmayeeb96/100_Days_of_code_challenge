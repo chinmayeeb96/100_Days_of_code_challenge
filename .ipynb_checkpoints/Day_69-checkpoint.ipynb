{
 "cells": [
  {
   "cell_type": "code",
   "execution_count": 4,
   "id": "74ccbf3d",
   "metadata": {},
   "outputs": [],
   "source": [
    "\n",
    "# Importing from tensorflow and keras\n",
    "from tensorflow.keras.datasets import mnist\n",
    "from tensorflow.keras.models import Sequential\n",
    "from tensorflow.keras.layers import Dense, Reshape\n",
    "from tensorflow.keras import utils\n",
    "from tensorflow import dtypes, tensordot\n",
    "from tensorflow import convert_to_tensor, linalg, transpose\n",
    "# For math operations\n",
    "import numpy as np\n",
    "# For plotting with matplotlib\n",
    "import matplotlib.pyplot as plt\n",
    "# For plotting with seaborn\n",
    "import seaborn as sns  \n",
    "# For plotting with bokeh\n",
    "from bokeh.plotting import figure, show\n",
    "from bokeh.models import Legend, LegendItem\n",
    "# For pandas dataframe\n",
    "import pandas as pd"
   ]
  },
  {
   "cell_type": "code",
   "execution_count": 5,
   "id": "4435002f",
   "metadata": {},
   "outputs": [
    {
     "name": "stdout",
     "output_type": "stream",
     "text": [
      "Downloading data from https://storage.googleapis.com/tensorflow/tf-keras-datasets/mnist.npz\n",
      "11493376/11490434 [==============================] - 9s 1us/step\n",
      "11501568/11490434 [==============================] - 9s 1us/step\n",
      "Training data has  18623 images\n",
      "Each image is of size  28 x 28\n"
     ]
    }
   ],
   "source": [
    "\n",
    "...\n",
    "# load dataset\n",
    "(x_train, train_labels), (_, _) = mnist.load_data()\n",
    "# Choose only the digits 0, 1, 2\n",
    "total_classes = 3\n",
    "ind = np.where(train_labels < total_classes)\n",
    "x_train, train_labels = x_train[ind], train_labels[ind]\n",
    "# Shape of training data\n",
    "total_examples, img_length, img_width = x_train.shape\n",
    "# Print the statistics\n",
    "print('Training data has ', total_examples, 'images')\n",
    "print('Each image is of size ', img_length, 'x', img_width)"
   ]
  },
  {
   "cell_type": "code",
   "execution_count": 6,
   "id": "cc68156d",
   "metadata": {},
   "outputs": [
    {
     "name": "stdout",
     "output_type": "stream",
     "text": [
      "3 largest eigenvalues:  tf.Tensor([5.1999642e+09 1.1419439e+10 4.8231231e+10], shape=(3,), dtype=float32)\n"
     ]
    }
   ],
   "source": [
    "from tensorflow import convert_to_tensor, linalg, transpose\n",
    "import numpy as np\n",
    "...\n",
    "# Convert the dataset into a 2D array of shape 18623 x 784\n",
    "x = convert_to_tensor(np.reshape(x_train, (x_train.shape[0], -1)),\n",
    "                      dtype=dtypes.float32)\n",
    "# Eigen-decomposition from a 784 x 784 matrix\n",
    "eigenvalues, eigenvectors = linalg.eigh(tensordot(transpose(x), x, axes=1))\n",
    "# Print the three largest eigenvalues\n",
    "print('3 largest eigenvalues: ', eigenvalues[-3:])\n",
    "# Project the data to eigenvectors\n",
    "x_pca = tensordot(x, eigenvectors, axes=1)"
   ]
  },
  {
   "cell_type": "code",
   "execution_count": 8,
   "id": "263c2622",
   "metadata": {},
   "outputs": [],
   "source": [
    "colormap = {0: \"yellow\", 1:\"green\", 2:\"blue\"}\n",
    "my_scatter = figure(title=\"First Two Dimensions of Projected Data After Applying PCA\", \n",
    "                    x_axis_label=\"Dimension 1\",\n",
    "                    y_axis_label=\"Dimension 2\")\n",
    "for digit in [0, 1, 2]:\n",
    "    selection = x_pca[train_labels == digit]\n",
    "    my_scatter.scatter(selection[:,-1].numpy(), selection[:,-2].numpy(),\n",
    "                       color=colormap[digit], size=5,\n",
    "                       legend_label=\"Digit \"+str(digit))\n",
    "my_scatter.legend.click_policy = \"hide\"\n",
    "show(my_scatter)"
   ]
  },
  {
   "cell_type": "code",
   "execution_count": null,
   "id": "1e9e8cf2",
   "metadata": {},
   "outputs": [],
   "source": []
  }
 ],
 "metadata": {
  "kernelspec": {
   "display_name": "Python 3",
   "language": "python",
   "name": "python3"
  },
  "language_info": {
   "codemirror_mode": {
    "name": "ipython",
    "version": 3
   },
   "file_extension": ".py",
   "mimetype": "text/x-python",
   "name": "python",
   "nbconvert_exporter": "python",
   "pygments_lexer": "ipython3",
   "version": "3.8.8"
  }
 },
 "nbformat": 4,
 "nbformat_minor": 5
}
