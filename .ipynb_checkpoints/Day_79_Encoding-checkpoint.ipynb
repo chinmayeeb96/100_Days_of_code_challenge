{
 "cells": [
  {
   "cell_type": "markdown",
   "id": "b2335db0",
   "metadata": {},
   "source": [
    "### Label Encoding"
   ]
  },
  {
   "cell_type": "code",
   "execution_count": 1,
   "id": "67f65bb3",
   "metadata": {},
   "outputs": [],
   "source": [
    "import sklearn \n",
    "import pandas"
   ]
  },
  {
   "cell_type": "code",
   "execution_count": 4,
   "id": "ebcc8b39",
   "metadata": {},
   "outputs": [
    {
     "data": {
      "text/plain": [
       "<function pandas.core.algorithms.factorize(values, sort: 'bool' = False, na_sentinel: 'Optional[int]' = -1, size_hint: 'Optional[int]' = None) -> \"Tuple[np.ndarray, Union[np.ndarray, 'Index']]\">"
      ]
     },
     "execution_count": 4,
     "metadata": {},
     "output_type": "execute_result"
    }
   ],
   "source": [
    "### Alphabetical(Sorted)\n",
    "\n",
    "sklearn.preprocessing.LabelEncoder\n",
    "\n",
    "### Order of appearance\n",
    "pandas.factorize"
   ]
  },
  {
   "cell_type": "markdown",
   "id": "10f92d00",
   "metadata": {},
   "source": [
    "### Frequency Encoding"
   ]
  },
  {
   "cell_type": "code",
   "execution_count": null,
   "id": "e4e89551",
   "metadata": {},
   "outputs": [],
   "source": [
    "##### For example let's take Titanic dataset, the Embarked feature\n",
    "encoding = titanic.groupby('Embarked').size()\n",
    "encoding = encoding/len(titanic)\n",
    "titanic['enc'] = titanic.Embarked.map('encoding')\n"
   ]
  },
  {
   "cell_type": "markdown",
   "id": "1403f048",
   "metadata": {},
   "source": [
    "### OneHot Encoding"
   ]
  },
  {
   "cell_type": "code",
   "execution_count": 5,
   "id": "1950f25e",
   "metadata": {},
   "outputs": [
    {
     "data": {
      "text/plain": [
       "sklearn.preprocessing._encoders.OneHotEncoder"
      ]
     },
     "execution_count": 5,
     "metadata": {},
     "output_type": "execute_result"
    }
   ],
   "source": [
    "pandas.get_dummies\n",
    "sklearn.preprocessing.OneHotEncoder"
   ]
  },
  {
   "cell_type": "code",
   "execution_count": null,
   "id": "9c91e0b0",
   "metadata": {},
   "outputs": [],
   "source": []
  }
 ],
 "metadata": {
  "kernelspec": {
   "display_name": "Python 3",
   "language": "python",
   "name": "python3"
  },
  "language_info": {
   "codemirror_mode": {
    "name": "ipython",
    "version": 3
   },
   "file_extension": ".py",
   "mimetype": "text/x-python",
   "name": "python",
   "nbconvert_exporter": "python",
   "pygments_lexer": "ipython3",
   "version": "3.8.8"
  }
 },
 "nbformat": 4,
 "nbformat_minor": 5
}
