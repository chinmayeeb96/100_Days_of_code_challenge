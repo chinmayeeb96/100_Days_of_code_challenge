{
 "cells": [
  {
   "cell_type": "code",
   "execution_count": 1,
   "id": "69d52717",
   "metadata": {},
   "outputs": [
    {
     "name": "stdout",
     "output_type": "stream",
     "text": [
      "      State FIPS State  Tier 1 Code      Tier 1 Description Pollutant  \\\n",
      "0              1    AL            1  FUEL COMB. ELEC. UTIL.        CO   \n",
      "1              1    AL            1  FUEL COMB. ELEC. UTIL.       NH3   \n",
      "2              1    AL            1  FUEL COMB. ELEC. UTIL.       NOX   \n",
      "3              1    AL            1  FUEL COMB. ELEC. UTIL.  PM10-PRI   \n",
      "4              1    AL            1  FUEL COMB. ELEC. UTIL.  PM25-PRI   \n",
      "...          ...   ...          ...                     ...       ...   \n",
      "5314          56    WY           16        PRESCRIBED FIRES       NOX   \n",
      "5315          56    WY           16        PRESCRIBED FIRES  PM10-PRI   \n",
      "5316          56    WY           16        PRESCRIBED FIRES  PM25-PRI   \n",
      "5317          56    WY           16        PRESCRIBED FIRES       SO2   \n",
      "5318          56    WY           16        PRESCRIBED FIRES       VOC   \n",
      "\n",
      "      emissions90  emissions96  emissions97  emissions98  emissions99  ...  \\\n",
      "0         6.86859      8.06884      8.04705      8.12158    11.515260  ...   \n",
      "1             NaN      0.01516      0.01605      0.01597     0.016510  ...   \n",
      "2       187.79386    219.00900    209.98918    198.66722   186.387100  ...   \n",
      "3         8.85994      9.28102      8.83472      8.37946    29.217020  ...   \n",
      "4         3.60246      4.36618      4.23529      4.00666    25.092193  ...   \n",
      "...           ...          ...          ...          ...          ...  ...   \n",
      "5314          NaN          NaN          NaN          NaN          NaN  ...   \n",
      "5315          NaN          NaN          NaN          NaN          NaN  ...   \n",
      "5316          NaN          NaN          NaN          NaN          NaN  ...   \n",
      "5317          NaN          NaN          NaN          NaN          NaN  ...   \n",
      "5318          NaN          NaN          NaN          NaN          NaN  ...   \n",
      "\n",
      "      emissions12  emissions13  emissions14  emissions15  emissions16  \\\n",
      "0        9.642311     9.326977     9.011643     9.125182     9.238721   \n",
      "1        0.488463     0.487606     0.486749     0.457457     0.428165   \n",
      "2       57.768312    53.849475    49.930638    40.769235    31.607833   \n",
      "3        6.469981     5.616641     4.763300     3.950869     3.138437   \n",
      "4        4.407621     3.949151     3.490680     2.964636     2.438592   \n",
      "...           ...          ...          ...          ...          ...   \n",
      "5314     2.700751     1.685790     0.670829     0.723065     0.775301   \n",
      "5315    25.776110    16.050751     6.325392     6.152275     5.979158   \n",
      "5316    21.844143    13.602321     5.360500     5.213792     5.067083   \n",
      "5317     1.698021     1.058455     0.418889     0.426659     0.434428   \n",
      "5318    61.320442    38.175952    15.031462    14.476352    13.921243   \n",
      "\n",
      "      emissions17  emissions18  emissions19  emissions20  emissions21  \n",
      "0        9.323161    10.050146     8.243679     8.243679     8.243679  \n",
      "1        0.398873     0.455760     0.417551     0.417551     0.417551  \n",
      "2       22.422130    26.233104    19.592480    13.752790    11.162100  \n",
      "3        2.303326     2.601011     2.868642     2.868642     2.868642  \n",
      "4        1.898368     1.941267     2.659792     2.659792     2.659792  \n",
      "...           ...          ...          ...          ...          ...  \n",
      "5314     0.827537     0.893848     0.374873     0.374873     0.374873  \n",
      "5315     5.806041     7.118097     2.857886     2.857886     2.857886  \n",
      "5316     4.920375     6.032286     2.421937     2.421937     2.421937  \n",
      "5317     0.442197     0.509242     0.208817     0.208817     0.208817  \n",
      "5318    13.366133    16.632343     6.645249     6.645249     6.645249  \n",
      "\n",
      "[5319 rows x 32 columns]\n"
     ]
    }
   ],
   "source": [
    "\n",
    "import pandas as pd\n",
    " \n",
    "URL = \"https://www.epa.gov/sites/default/files/2021-03/state_tier1_caps.xlsx\"\n",
    " \n",
    "df = pd.read_excel(URL, sheet_name=\"State_Trends\", header=1)\n",
    "print(df)"
   ]
  },
  {
   "cell_type": "code",
   "execution_count": 2,
   "id": "555669d8",
   "metadata": {},
   "outputs": [
    {
     "name": "stdout",
     "output_type": "stream",
     "text": [
      "<class 'pandas.core.frame.DataFrame'>\n",
      "RangeIndex: 5319 entries, 0 to 5318\n",
      "Data columns (total 32 columns):\n",
      " #   Column              Non-Null Count  Dtype  \n",
      "---  ------              --------------  -----  \n",
      " 0   State FIPS          5319 non-null   int64  \n",
      " 1   State               5319 non-null   object \n",
      " 2   Tier 1 Code         5319 non-null   int64  \n",
      " 3   Tier 1 Description  5319 non-null   object \n",
      " 4   Pollutant           5319 non-null   object \n",
      " 5   emissions90         3926 non-null   float64\n",
      " 6   emissions96         4163 non-null   float64\n",
      " 7   emissions97         4163 non-null   float64\n",
      " 8   emissions98         4164 non-null   float64\n",
      " 9   emissions99         4281 non-null   float64\n",
      " 10  emissions00         4280 non-null   float64\n",
      " 11  emissions01         4277 non-null   float64\n",
      " 12  emissions02         4720 non-null   float64\n",
      " 13  emissions03         4939 non-null   float64\n",
      " 14  emissions04         4939 non-null   float64\n",
      " 15  emissions05         4561 non-null   float64\n",
      " 16  emissions06         4951 non-null   float64\n",
      " 17  emissions07         4951 non-null   float64\n",
      " 18  emissions08         4942 non-null   float64\n",
      " 19  emissions09         5281 non-null   float64\n",
      " 20  emissions10         5281 non-null   float64\n",
      " 21  emissions11         5318 non-null   float64\n",
      " 22  emissions12         5318 non-null   float64\n",
      " 23  emissions13         5318 non-null   float64\n",
      " 24  emissions14         5077 non-null   float64\n",
      " 25  emissions15         5299 non-null   float64\n",
      " 26  emissions16         5299 non-null   float64\n",
      " 27  emissions17         5107 non-null   float64\n",
      " 28  emissions18         5052 non-null   float64\n",
      " 29  emissions19         5052 non-null   float64\n",
      " 30  emissions20         5052 non-null   float64\n",
      " 31  emissions21         5052 non-null   float64\n",
      "dtypes: float64(27), int64(2), object(3)\n",
      "memory usage: 1.3+ MB\n"
     ]
    }
   ],
   "source": [
    "df.info() # print info to screen\n"
   ]
  },
  {
   "cell_type": "code",
   "execution_count": 5,
   "id": "ac71d1ff",
   "metadata": {},
   "outputs": [
    {
     "name": "stdout",
     "output_type": "stream",
     "text": [
      "State FIPS              int64\n",
      "State                  object\n",
      "Tier 1 Code             int64\n",
      "Tier 1 Description     object\n",
      "Pollutant              object\n",
      "emissions90           float64\n",
      "emissions96           float64\n",
      "emissions97           float64\n",
      "emissions98           float64\n",
      "emissions99           float64\n",
      "emissions00           float64\n",
      "emissions01           float64\n",
      "emissions02           float64\n",
      "emissions03           float64\n",
      "emissions04           float64\n",
      "emissions05           float64\n",
      "emissions06           float64\n",
      "emissions07           float64\n",
      "emissions08           float64\n",
      "emissions09           float64\n",
      "emissions10           float64\n",
      "emissions11           float64\n",
      "emissions12           float64\n",
      "emissions13           float64\n",
      "emissions14           float64\n",
      "emissions15           float64\n",
      "emissions16           float64\n",
      "emissions17           float64\n",
      "emissions18           float64\n",
      "emissions19           float64\n",
      "emissions20           float64\n",
      "emissions21           float64\n",
      "dtype: object\n"
     ]
    }
   ],
   "source": [
    "column_types = df.dtypes\n",
    "print(column_types)"
   ]
  },
  {
   "cell_type": "code",
   "execution_count": 6,
   "id": "1990c70e",
   "metadata": {},
   "outputs": [
    {
     "name": "stdout",
     "output_type": "stream",
     "text": [
      "     State Pollutant  emissions19  emissions20  emissions21\n",
      "0       AL        CO     8.243679     8.243679     8.243679\n",
      "1       AL       NH3     0.417551     0.417551     0.417551\n",
      "2       AL       NOX    19.592480    13.752790    11.162100\n",
      "3       AL  PM10-PRI     2.868642     2.868642     2.868642\n",
      "4       AL  PM25-PRI     2.659792     2.659792     2.659792\n",
      "...    ...       ...          ...          ...          ...\n",
      "5314    WY       NOX     0.374873     0.374873     0.374873\n",
      "5315    WY  PM10-PRI     2.857886     2.857886     2.857886\n",
      "5316    WY  PM25-PRI     2.421937     2.421937     2.421937\n",
      "5317    WY       SO2     0.208817     0.208817     0.208817\n",
      "5318    WY       VOC     6.645249     6.645249     6.645249\n",
      "\n",
      "[5319 rows x 5 columns]\n"
     ]
    }
   ],
   "source": [
    "cols = [\"State\", \"Pollutant\", \"emissions19\", \"emissions20\", \"emissions21\"]\n",
    "last3years = df[cols]\n",
    "print(last3years)"
   ]
  },
  {
   "cell_type": "code",
   "execution_count": 7,
   "id": "dbc10585",
   "metadata": {},
   "outputs": [
    {
     "name": "stdout",
     "output_type": "stream",
     "text": [
      "0        8.243679\n",
      "1        0.417551\n",
      "2       11.162100\n",
      "3        2.868642\n",
      "4        2.659792\n",
      "          ...    \n",
      "5314     0.374873\n",
      "5315     2.857886\n",
      "5316     2.421937\n",
      "5317     0.208817\n",
      "5318     6.645249\n",
      "Name: emissions21, Length: 5319, dtype: float64\n"
     ]
    }
   ],
   "source": [
    "data2021 = df[\"emissions21\"]\n",
    "print(data2021)"
   ]
  },
  {
   "cell_type": "markdown",
   "id": "5258de06",
   "metadata": {},
   "source": [
    "## Essential Functions in DataFrame"
   ]
  },
  {
   "cell_type": "code",
   "execution_count": 8,
   "id": "a3c3a4bb",
   "metadata": {},
   "outputs": [
    {
     "name": "stdout",
     "output_type": "stream",
     "text": [
      "['CO' 'NH3' 'NOX' 'PM10-PRI' 'PM25-PRI' 'SO2' 'VOC']\n"
     ]
    }
   ],
   "source": [
    "# unique, mean, describe\n",
    "\n",
    "print(df[\"Pollutant\"].unique())"
   ]
  },
  {
   "cell_type": "code",
   "execution_count": 9,
   "id": "a0fb7876",
   "metadata": {},
   "outputs": [
    {
     "name": "stdout",
     "output_type": "stream",
     "text": [
      "19.26453203565005\n"
     ]
    }
   ],
   "source": [
    "print(df['emissions21'].mean())"
   ]
  },
  {
   "cell_type": "code",
   "execution_count": 10,
   "id": "192c4480",
   "metadata": {},
   "outputs": [
    {
     "name": "stdout",
     "output_type": "stream",
     "text": [
      "              count       mean         std      min        25%        50%  \\\n",
      "State FIPS   5319.0  29.039481   15.667352  1.00000  16.000000  29.000000   \n",
      "Tier 1 Code  5319.0   8.213198    4.610970  1.00000   4.000000   8.000000   \n",
      "emissions90  3926.0  67.885173  373.308888  0.00000   0.474330   4.042665   \n",
      "emissions96  4163.0  54.576353  264.951584  0.00001   0.338420   3.351860   \n",
      "emissions97  4163.0  51.635867  249.057529  0.00001   0.335830   3.339820   \n",
      "emissions98  4164.0  50.801607  240.583301  0.00001   0.344537   3.333940   \n",
      "emissions99  4281.0  48.574331  224.351639  0.00000   0.298280   3.198574   \n",
      "emissions00  4280.0  48.331283  228.045136  0.00000   0.301689   3.191610   \n",
      "emissions01  4277.0  45.379913  208.045773  0.00000   0.306105   3.194570   \n",
      "emissions02  4720.0  40.620586  211.845254  0.00000   0.132365   1.898117   \n",
      "emissions03  4939.0  38.580118  202.907372  0.00000   0.092004   1.646157   \n",
      "emissions04  4939.0  38.266614  199.499755  0.00000   0.092897   1.686734   \n",
      "emissions05  4561.0  37.538785  156.186952  0.00000   0.213054   2.298465   \n",
      "emissions06  4951.0  31.796042  137.208089  0.00000   0.092216   1.557814   \n",
      "emissions07  4951.0  29.166167  127.385372  0.00000   0.084963   1.409892   \n",
      "emissions08  4942.0  31.514819  155.322728  0.00000   0.158240   1.539944   \n",
      "emissions09  5281.0  27.722597  140.524415  0.00000   0.095350   1.339171   \n",
      "emissions10  5281.0  27.461119  140.367131  0.00000   0.094861   1.316531   \n",
      "emissions11  5318.0  26.935748  113.778154  0.00000   0.094116   1.266789   \n",
      "emissions12  5318.0  26.073642  108.279353  0.00000   0.110958   1.347089   \n",
      "emissions13  5318.0  25.211536  103.732749  0.00000   0.111590   1.338692   \n",
      "emissions14  5077.0  24.859033  106.038091  0.00000   0.159116   1.478374   \n",
      "emissions15  5299.0  22.909261  101.590544  0.00000   0.109240   1.223824   \n",
      "emissions16  5299.0  21.357112   96.439660  0.00000   0.102573   1.165098   \n",
      "emissions17  5107.0  24.009949  128.612427  0.00000   0.133070   1.242553   \n",
      "emissions18  5052.0  23.068262  114.948923  0.00000   0.150435   1.373293   \n",
      "emissions19  5052.0  19.846244   98.392126  0.00000   0.125881   1.180123   \n",
      "emissions20  5052.0  19.507828   97.515187  0.00000   0.125066   1.165284   \n",
      "emissions21  5052.0  19.264532   96.702411  0.00000   0.125066   1.151917   \n",
      "\n",
      "                   75%           max  \n",
      "State FIPS   42.000000     56.000000  \n",
      "Tier 1 Code  12.000000     16.000000  \n",
      "emissions90  20.610050  11893.764890  \n",
      "emissions96  16.804540   6890.969060  \n",
      "emissions97  16.679675   6547.791030  \n",
      "emissions98  16.579365   6187.792400  \n",
      "emissions99  16.993275   5701.037970  \n",
      "emissions00  16.240101   5828.319510  \n",
      "emissions01  16.091365   4600.093520  \n",
      "emissions02  12.613465   8402.863427  \n",
      "emissions03  11.613535   8402.863427  \n",
      "emissions04  11.840717   8402.863427  \n",
      "emissions05  13.247740   2903.494222  \n",
      "emissions06  10.265550   2828.242223  \n",
      "emissions07   9.308824   2791.535544  \n",
      "emissions08  10.005629   6461.172958  \n",
      "emissions09   9.098742   6461.172958  \n",
      "emissions10   8.952050   6461.172958  \n",
      "emissions11   9.151551   2333.537512  \n",
      "emissions12   9.311485   2200.097251  \n",
      "emissions13   9.318675   2200.097251  \n",
      "emissions14   9.690808   3239.366102  \n",
      "emissions15   8.506026   3239.366102  \n",
      "emissions16   8.199918   3239.366102  \n",
      "emissions17   8.512386   4514.752701  \n",
      "emissions18   9.013688   4562.151689  \n",
      "emissions19   7.906181   4562.151689  \n",
      "emissions20   7.737705   4562.151689  \n",
      "emissions21   7.754584   4562.151689  \n"
     ]
    }
   ],
   "source": [
    "print(df.describe().T)"
   ]
  },
  {
   "cell_type": "code",
   "execution_count": null,
   "id": "76d8196e",
   "metadata": {},
   "outputs": [],
   "source": []
  }
 ],
 "metadata": {
  "kernelspec": {
   "display_name": "Python 3",
   "language": "python",
   "name": "python3"
  },
  "language_info": {
   "codemirror_mode": {
    "name": "ipython",
    "version": 3
   },
   "file_extension": ".py",
   "mimetype": "text/x-python",
   "name": "python",
   "nbconvert_exporter": "python",
   "pygments_lexer": "ipython3",
   "version": "3.8.8"
  }
 },
 "nbformat": 4,
 "nbformat_minor": 5
}
