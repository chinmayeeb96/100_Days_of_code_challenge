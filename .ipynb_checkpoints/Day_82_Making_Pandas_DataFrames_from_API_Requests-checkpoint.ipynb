{
 "cells": [
  {
   "cell_type": "markdown",
   "id": "c4ed2c44",
   "metadata": {},
   "source": [
    "## Finding information on the file before reading it in\n",
    "\n",
    "### Number of lines(row counts)"
   ]
  },
  {
   "cell_type": "code",
   "execution_count": 1,
   "id": "17b34282",
   "metadata": {},
   "outputs": [
    {
     "name": "stdout",
     "output_type": "stream",
     "text": [
      "9333 Dataset/earthquakes.csv\r\n"
     ]
    }
   ],
   "source": [
    "!wc -l Dataset/earthquakes.csv"
   ]
  },
  {
   "cell_type": "code",
   "execution_count": 2,
   "id": "d296808d",
   "metadata": {},
   "outputs": [
    {
     "name": "stdout",
     "output_type": "stream",
     "text": [
      "85 Dataset/item_categories.csv\r\n"
     ]
    }
   ],
   "source": [
    "!wc -l Dataset/item_categories.csv"
   ]
  },
  {
   "cell_type": "code",
   "execution_count": 3,
   "id": "a96e744b",
   "metadata": {},
   "outputs": [
    {
     "name": "stdout",
     "output_type": "stream",
     "text": [
      "-rw-rw-r-- 1 chinmayee chinmayee 3.4M May 27 13:57 earthquakes.csv\r\n"
     ]
    }
   ],
   "source": [
    "!ls -lh Dataset | grep earthquakes.csv"
   ]
  },
  {
   "cell_type": "code",
   "execution_count": 4,
   "id": "4bf67420",
   "metadata": {},
   "outputs": [
    {
     "name": "stdout",
     "output_type": "stream",
     "text": [
      "26\r\n"
     ]
    }
   ],
   "source": [
    "!awk -F',' '{print NF; exit}' Dataset/earthquakes.csv\n"
   ]
  },
  {
   "cell_type": "code",
   "execution_count": 5,
   "id": "c1a7d507",
   "metadata": {},
   "outputs": [
    {
     "name": "stdout",
     "output_type": "stream",
     "text": [
      "2\r\n"
     ]
    }
   ],
   "source": [
    "!awk -F',' '{print NF; exit}' Dataset/item_categories.csv"
   ]
  },
  {
   "cell_type": "code",
   "execution_count": 6,
   "id": "998afe2b",
   "metadata": {},
   "outputs": [],
   "source": [
    "import pandas as pd\n",
    "df = pd.read_csv('Dataset/earthquakes.csv')"
   ]
  },
  {
   "cell_type": "markdown",
   "id": "86f40e4a",
   "metadata": {},
   "source": [
    "## Writing a DataFrame Object to a CSV File\n",
    "\n",
    "\n",
    "#### Note that the index of df is just row numbers, so we don't want to keep it. Therefore, we pass index=False to the to_csv() method:"
   ]
  },
  {
   "cell_type": "code",
   "execution_count": 7,
   "id": "f253871c",
   "metadata": {},
   "outputs": [],
   "source": [
    "df.to_csv('output.csv', index=False)"
   ]
  },
  {
   "cell_type": "markdown",
   "id": "6124ec8f",
   "metadata": {},
   "source": [
    "## Writing a DataFrame Object to a Database"
   ]
  },
  {
   "cell_type": "code",
   "execution_count": 8,
   "id": "1369c471",
   "metadata": {},
   "outputs": [],
   "source": [
    "import sqlite3"
   ]
  },
  {
   "cell_type": "code",
   "execution_count": 9,
   "id": "7e288bd3",
   "metadata": {},
   "outputs": [],
   "source": [
    "with sqlite3.connect('Dataset/quakes.db') as connection:\n",
    "    pd.read_csv('Dataset/tsunamis.csv').to_sql(\n",
    "        'tsunamis', connection, index=False, if_exists='replace'\n",
    "    )\n"
   ]
  },
  {
   "cell_type": "markdown",
   "id": "f3e3d5e9",
   "metadata": {},
   "source": [
    "### Making Pandas DataFrames from API Requests"
   ]
  },
  {
   "cell_type": "markdown",
   "id": "0859e8ca",
   "metadata": {},
   "source": [
    "### Get data from API"
   ]
  },
  {
   "cell_type": "code",
   "execution_count": 11,
   "id": "0756c300",
   "metadata": {},
   "outputs": [
    {
     "data": {
      "text/plain": [
       "200"
      ]
     },
     "execution_count": 11,
     "metadata": {},
     "output_type": "execute_result"
    }
   ],
   "source": [
    "import datetime as dt\n",
    "import pandas as pd\n",
    "import requests\n",
    "\n",
    "yesterday = dt.date.today() - dt.timedelta(days=1)\n",
    "api = 'https://earthquake.usgs.gov/fdsnws/event/1/query'\n",
    "payload = {\n",
    "    'format':'geojson',\n",
    "    'starttime': yesterday - dt.timedelta(days=30),\n",
    "    'endtime': yesterday\n",
    "    \n",
    "}\n",
    "response = requests.get(api, params=payload)\n",
    "\n",
    "response.status_code"
   ]
  },
  {
   "cell_type": "markdown",
   "id": "6d1db287",
   "metadata": {},
   "source": [
    "#### Response of 200 means OK, so we can pull the data out of the result. Since we asked the API for a JSON payload, we can extract it from the response with the json() method."
   ]
  },
  {
   "cell_type": "markdown",
   "id": "5d05003b",
   "metadata": {},
   "source": [
    "### Isolate the Data from the JSON Response\n"
   ]
  },
  {
   "cell_type": "code",
   "execution_count": 12,
   "id": "a435b134",
   "metadata": {},
   "outputs": [
    {
     "data": {
      "text/plain": [
       "dict_keys(['type', 'metadata', 'features', 'bbox'])"
      ]
     },
     "execution_count": 12,
     "metadata": {},
     "output_type": "execute_result"
    }
   ],
   "source": [
    "earthquake_json = response.json()\n",
    "earthquake_json.keys()"
   ]
  },
  {
   "cell_type": "code",
   "execution_count": 13,
   "id": "fe1830df",
   "metadata": {},
   "outputs": [
    {
     "data": {
      "text/plain": [
       "{'generated': 1653672464000,\n",
       " 'url': 'https://earthquake.usgs.gov/fdsnws/event/1/query?format=geojson&starttime=2022-04-26&endtime=2022-05-26',\n",
       " 'title': 'USGS Earthquakes',\n",
       " 'status': 200,\n",
       " 'api': '1.13.6',\n",
       " 'count': 9033}"
      ]
     },
     "execution_count": 13,
     "metadata": {},
     "output_type": "execute_result"
    }
   ],
   "source": [
    "earthquake_json['metadata']"
   ]
  },
  {
   "cell_type": "code",
   "execution_count": 14,
   "id": "dd13a3ab",
   "metadata": {},
   "outputs": [
    {
     "data": {
      "text/plain": [
       "list"
      ]
     },
     "execution_count": 14,
     "metadata": {},
     "output_type": "execute_result"
    }
   ],
   "source": [
    "type(earthquake_json['features'])"
   ]
  },
  {
   "cell_type": "code",
   "execution_count": 15,
   "id": "63685cb3",
   "metadata": {},
   "outputs": [
    {
     "data": {
      "text/plain": [
       "{'type': 'Feature',\n",
       " 'properties': {'mag': 2.6,\n",
       "  'place': '56 km S of Whites City, New Mexico',\n",
       "  'time': 1653522766400,\n",
       "  'updated': 1653589914147,\n",
       "  'tz': None,\n",
       "  'url': 'https://earthquake.usgs.gov/earthquakes/eventpage/tx2022kexs',\n",
       "  'detail': 'https://earthquake.usgs.gov/fdsnws/event/1/query?eventid=tx2022kexs&format=geojson',\n",
       "  'felt': None,\n",
       "  'cdi': None,\n",
       "  'mmi': None,\n",
       "  'alert': None,\n",
       "  'status': 'reviewed',\n",
       "  'tsunami': 0,\n",
       "  'sig': 104,\n",
       "  'net': 'tx',\n",
       "  'code': '2022kexs',\n",
       "  'ids': ',us7000hcjb,tx2022kexs,',\n",
       "  'sources': ',us,tx,',\n",
       "  'types': ',origin,phase-data,',\n",
       "  'nst': 9,\n",
       "  'dmin': 0.116324702,\n",
       "  'rms': 0.2,\n",
       "  'gap': 68,\n",
       "  'magType': 'ml',\n",
       "  'type': 'earthquake',\n",
       "  'title': 'M 2.6 - 56 km S of Whites City, New Mexico'},\n",
       " 'geometry': {'type': 'Point',\n",
       "  'coordinates': [-104.3458278, 31.66428335, 7.905419922]},\n",
       " 'id': 'tx2022kexs'}"
      ]
     },
     "execution_count": 15,
     "metadata": {},
     "output_type": "execute_result"
    }
   ],
   "source": [
    "earthquake_json['features'][1]"
   ]
  },
  {
   "cell_type": "markdown",
   "id": "71932d91",
   "metadata": {},
   "source": [
    "### Convert to Dataframe\n"
   ]
  },
  {
   "cell_type": "code",
   "execution_count": 17,
   "id": "29a8abe1",
   "metadata": {},
   "outputs": [
    {
     "data": {
      "text/html": [
       "<div>\n",
       "<style scoped>\n",
       "    .dataframe tbody tr th:only-of-type {\n",
       "        vertical-align: middle;\n",
       "    }\n",
       "\n",
       "    .dataframe tbody tr th {\n",
       "        vertical-align: top;\n",
       "    }\n",
       "\n",
       "    .dataframe thead th {\n",
       "        text-align: right;\n",
       "    }\n",
       "</style>\n",
       "<table border=\"1\" class=\"dataframe\">\n",
       "  <thead>\n",
       "    <tr style=\"text-align: right;\">\n",
       "      <th></th>\n",
       "      <th>mag</th>\n",
       "      <th>place</th>\n",
       "      <th>time</th>\n",
       "      <th>updated</th>\n",
       "      <th>tz</th>\n",
       "      <th>url</th>\n",
       "      <th>detail</th>\n",
       "      <th>felt</th>\n",
       "      <th>cdi</th>\n",
       "      <th>mmi</th>\n",
       "      <th>...</th>\n",
       "      <th>ids</th>\n",
       "      <th>sources</th>\n",
       "      <th>types</th>\n",
       "      <th>nst</th>\n",
       "      <th>dmin</th>\n",
       "      <th>rms</th>\n",
       "      <th>gap</th>\n",
       "      <th>magType</th>\n",
       "      <th>type</th>\n",
       "      <th>title</th>\n",
       "    </tr>\n",
       "  </thead>\n",
       "  <tbody>\n",
       "    <tr>\n",
       "      <th>0</th>\n",
       "      <td>4.30</td>\n",
       "      <td>231 km ENE of Lospalos, Timor Leste</td>\n",
       "      <td>1653523007692</td>\n",
       "      <td>1653525487040</td>\n",
       "      <td>None</td>\n",
       "      <td>https://earthquake.usgs.gov/earthquakes/eventp...</td>\n",
       "      <td>https://earthquake.usgs.gov/fdsnws/event/1/que...</td>\n",
       "      <td>NaN</td>\n",
       "      <td>NaN</td>\n",
       "      <td>NaN</td>\n",
       "      <td>...</td>\n",
       "      <td>,us7000hcjf,</td>\n",
       "      <td>,us,</td>\n",
       "      <td>,origin,phase-data,</td>\n",
       "      <td>NaN</td>\n",
       "      <td>2.575000</td>\n",
       "      <td>0.47</td>\n",
       "      <td>65.0</td>\n",
       "      <td>mb</td>\n",
       "      <td>earthquake</td>\n",
       "      <td>M 4.3 - 231 km ENE of Lospalos, Timor Leste</td>\n",
       "    </tr>\n",
       "    <tr>\n",
       "      <th>1</th>\n",
       "      <td>2.60</td>\n",
       "      <td>56 km S of Whites City, New Mexico</td>\n",
       "      <td>1653522766400</td>\n",
       "      <td>1653589914147</td>\n",
       "      <td>None</td>\n",
       "      <td>https://earthquake.usgs.gov/earthquakes/eventp...</td>\n",
       "      <td>https://earthquake.usgs.gov/fdsnws/event/1/que...</td>\n",
       "      <td>NaN</td>\n",
       "      <td>NaN</td>\n",
       "      <td>NaN</td>\n",
       "      <td>...</td>\n",
       "      <td>,us7000hcjb,tx2022kexs,</td>\n",
       "      <td>,us,tx,</td>\n",
       "      <td>,origin,phase-data,</td>\n",
       "      <td>9.0</td>\n",
       "      <td>0.116325</td>\n",
       "      <td>0.20</td>\n",
       "      <td>68.0</td>\n",
       "      <td>ml</td>\n",
       "      <td>earthquake</td>\n",
       "      <td>M 2.6 - 56 km S of Whites City, New Mexico</td>\n",
       "    </tr>\n",
       "    <tr>\n",
       "      <th>2</th>\n",
       "      <td>5.00</td>\n",
       "      <td>98 km NNW of Neiafu, Tonga</td>\n",
       "      <td>1653522062414</td>\n",
       "      <td>1653523671040</td>\n",
       "      <td>None</td>\n",
       "      <td>https://earthquake.usgs.gov/earthquakes/eventp...</td>\n",
       "      <td>https://earthquake.usgs.gov/fdsnws/event/1/que...</td>\n",
       "      <td>NaN</td>\n",
       "      <td>NaN</td>\n",
       "      <td>NaN</td>\n",
       "      <td>...</td>\n",
       "      <td>,us7000hcja,</td>\n",
       "      <td>,us,</td>\n",
       "      <td>,origin,phase-data,</td>\n",
       "      <td>NaN</td>\n",
       "      <td>4.708000</td>\n",
       "      <td>0.63</td>\n",
       "      <td>125.0</td>\n",
       "      <td>mb</td>\n",
       "      <td>earthquake</td>\n",
       "      <td>M 5.0 - 98 km NNW of Neiafu, Tonga</td>\n",
       "    </tr>\n",
       "    <tr>\n",
       "      <th>3</th>\n",
       "      <td>0.36</td>\n",
       "      <td>6km WNW of Cobb, CA</td>\n",
       "      <td>1653521910980</td>\n",
       "      <td>1653522913211</td>\n",
       "      <td>None</td>\n",
       "      <td>https://earthquake.usgs.gov/earthquakes/eventp...</td>\n",
       "      <td>https://earthquake.usgs.gov/fdsnws/event/1/que...</td>\n",
       "      <td>NaN</td>\n",
       "      <td>NaN</td>\n",
       "      <td>NaN</td>\n",
       "      <td>...</td>\n",
       "      <td>,nc73737926,</td>\n",
       "      <td>,nc,</td>\n",
       "      <td>,nearby-cities,origin,phase-data,scitech-link,</td>\n",
       "      <td>7.0</td>\n",
       "      <td>0.001924</td>\n",
       "      <td>0.01</td>\n",
       "      <td>78.0</td>\n",
       "      <td>md</td>\n",
       "      <td>earthquake</td>\n",
       "      <td>M 0.4 - 6km WNW of Cobb, CA</td>\n",
       "    </tr>\n",
       "    <tr>\n",
       "      <th>4</th>\n",
       "      <td>1.17</td>\n",
       "      <td>13km SE of Anza, CA</td>\n",
       "      <td>1653521862800</td>\n",
       "      <td>1653585747540</td>\n",
       "      <td>None</td>\n",
       "      <td>https://earthquake.usgs.gov/earthquakes/eventp...</td>\n",
       "      <td>https://earthquake.usgs.gov/fdsnws/event/1/que...</td>\n",
       "      <td>NaN</td>\n",
       "      <td>NaN</td>\n",
       "      <td>NaN</td>\n",
       "      <td>...</td>\n",
       "      <td>,ci40026815,</td>\n",
       "      <td>,ci,</td>\n",
       "      <td>,focal-mechanism,nearby-cities,origin,phase-da...</td>\n",
       "      <td>44.0</td>\n",
       "      <td>0.031700</td>\n",
       "      <td>0.13</td>\n",
       "      <td>44.0</td>\n",
       "      <td>ml</td>\n",
       "      <td>earthquake</td>\n",
       "      <td>M 1.2 - 13km SE of Anza, CA</td>\n",
       "    </tr>\n",
       "  </tbody>\n",
       "</table>\n",
       "<p>5 rows × 26 columns</p>\n",
       "</div>"
      ],
      "text/plain": [
       "    mag                                place           time        updated  \\\n",
       "0  4.30  231 km ENE of Lospalos, Timor Leste  1653523007692  1653525487040   \n",
       "1  2.60   56 km S of Whites City, New Mexico  1653522766400  1653589914147   \n",
       "2  5.00           98 km NNW of Neiafu, Tonga  1653522062414  1653523671040   \n",
       "3  0.36                  6km WNW of Cobb, CA  1653521910980  1653522913211   \n",
       "4  1.17                  13km SE of Anza, CA  1653521862800  1653585747540   \n",
       "\n",
       "     tz                                                url  \\\n",
       "0  None  https://earthquake.usgs.gov/earthquakes/eventp...   \n",
       "1  None  https://earthquake.usgs.gov/earthquakes/eventp...   \n",
       "2  None  https://earthquake.usgs.gov/earthquakes/eventp...   \n",
       "3  None  https://earthquake.usgs.gov/earthquakes/eventp...   \n",
       "4  None  https://earthquake.usgs.gov/earthquakes/eventp...   \n",
       "\n",
       "                                              detail  felt  cdi  mmi  ...  \\\n",
       "0  https://earthquake.usgs.gov/fdsnws/event/1/que...   NaN  NaN  NaN  ...   \n",
       "1  https://earthquake.usgs.gov/fdsnws/event/1/que...   NaN  NaN  NaN  ...   \n",
       "2  https://earthquake.usgs.gov/fdsnws/event/1/que...   NaN  NaN  NaN  ...   \n",
       "3  https://earthquake.usgs.gov/fdsnws/event/1/que...   NaN  NaN  NaN  ...   \n",
       "4  https://earthquake.usgs.gov/fdsnws/event/1/que...   NaN  NaN  NaN  ...   \n",
       "\n",
       "                       ids  sources  \\\n",
       "0             ,us7000hcjf,     ,us,   \n",
       "1  ,us7000hcjb,tx2022kexs,  ,us,tx,   \n",
       "2             ,us7000hcja,     ,us,   \n",
       "3             ,nc73737926,     ,nc,   \n",
       "4             ,ci40026815,     ,ci,   \n",
       "\n",
       "                                               types   nst      dmin   rms  \\\n",
       "0                                ,origin,phase-data,   NaN  2.575000  0.47   \n",
       "1                                ,origin,phase-data,   9.0  0.116325  0.20   \n",
       "2                                ,origin,phase-data,   NaN  4.708000  0.63   \n",
       "3     ,nearby-cities,origin,phase-data,scitech-link,   7.0  0.001924  0.01   \n",
       "4  ,focal-mechanism,nearby-cities,origin,phase-da...  44.0  0.031700  0.13   \n",
       "\n",
       "     gap magType        type                                        title  \n",
       "0   65.0      mb  earthquake  M 4.3 - 231 km ENE of Lospalos, Timor Leste  \n",
       "1   68.0      ml  earthquake   M 2.6 - 56 km S of Whites City, New Mexico  \n",
       "2  125.0      mb  earthquake           M 5.0 - 98 km NNW of Neiafu, Tonga  \n",
       "3   78.0      md  earthquake                  M 0.4 - 6km WNW of Cobb, CA  \n",
       "4   44.0      ml  earthquake                  M 1.2 - 13km SE of Anza, CA  \n",
       "\n",
       "[5 rows x 26 columns]"
      ]
     },
     "execution_count": 17,
     "metadata": {},
     "output_type": "execute_result"
    }
   ],
   "source": [
    "earthquake_properties_data = [quake['properties'] for quake in earthquake_json['features']]\n",
    "\n",
    "df = pd.DataFrame(earthquake_properties_data)\n",
    "df.head()"
   ]
  },
  {
   "cell_type": "code",
   "execution_count": 18,
   "id": "7ce7535f",
   "metadata": {},
   "outputs": [],
   "source": [
    "# Write to CSV\n",
    "df.to_csv('earthquale.csv', index=False)"
   ]
  },
  {
   "cell_type": "code",
   "execution_count": null,
   "id": "b47947b8",
   "metadata": {},
   "outputs": [],
   "source": []
  }
 ],
 "metadata": {
  "kernelspec": {
   "display_name": "Python 3",
   "language": "python",
   "name": "python3"
  },
  "language_info": {
   "codemirror_mode": {
    "name": "ipython",
    "version": 3
   },
   "file_extension": ".py",
   "mimetype": "text/x-python",
   "name": "python",
   "nbconvert_exporter": "python",
   "pygments_lexer": "ipython3",
   "version": "3.8.8"
  }
 },
 "nbformat": 4,
 "nbformat_minor": 5
}
