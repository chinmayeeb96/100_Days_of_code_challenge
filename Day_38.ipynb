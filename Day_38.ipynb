{
 "cells": [
  {
   "cell_type": "code",
   "execution_count": null,
   "id": "77f4fa5f",
   "metadata": {},
   "outputs": [],
   "source": []
  },
  {
   "cell_type": "code",
   "execution_count": 19,
   "id": "4ecc102e",
   "metadata": {},
   "outputs": [
    {
     "name": "stdout",
     "output_type": "stream",
     "text": [
      "00\n",
      "17\n"
     ]
    },
    {
     "data": {
      "text/plain": [
       "17"
      ]
     },
     "execution_count": 19,
     "metadata": {},
     "output_type": "execute_result"
    }
   ],
   "source": [
    "def solution(year):\n",
    "    \n",
    "    \n",
    "    year_1 = str(year)[:-2]\n",
    "    year_2 = str(year)[2:]\n",
    "    print(year_2)\n",
    "    print(year_1)\n",
    "    if year_2 == \"00\":\n",
    "        century = int(year_1)\n",
    "    else:\n",
    "        century = int(year_1)+1\n",
    "        \n",
    "    return century\n",
    "solution(1700)        "
   ]
  },
  {
   "cell_type": "code",
   "execution_count": 18,
   "id": "8d316c06",
   "metadata": {},
   "outputs": [
    {
     "name": "stdout",
     "output_type": "stream",
     "text": [
      "00\n",
      "17\n"
     ]
    },
    {
     "data": {
      "text/plain": [
       "17"
      ]
     },
     "execution_count": 18,
     "metadata": {},
     "output_type": "execute_result"
    }
   ],
   "source": [
    "year = 1700\n",
    "solution(year)"
   ]
  },
  {
   "cell_type": "code",
   "execution_count": 20,
   "id": "e6bd4c64",
   "metadata": {},
   "outputs": [],
   "source": [
    "def centuryFromYear(year):\n",
    "    \n",
    "    return (year + 99) // 100\n"
   ]
  },
  {
   "cell_type": "code",
   "execution_count": 22,
   "id": "e5523732",
   "metadata": {},
   "outputs": [
    {
     "data": {
      "text/plain": [
       "17"
      ]
     },
     "execution_count": 22,
     "metadata": {},
     "output_type": "execute_result"
    }
   ],
   "source": [
    "year = 1700\n",
    "centuryFromYear(year)"
   ]
  },
  {
   "cell_type": "code",
   "execution_count": 28,
   "id": "e51814db",
   "metadata": {},
   "outputs": [],
   "source": [
    "import pandas as pd\n",
    "import numpy as np\n",
    "\n",
    "\n",
    "np.random.seed(123)\n",
    "\n",
    "variables = ['X', 'Y', 'Z']\n",
    "labels = ['ID_0', 'ID_1', 'ID_2', 'ID_3', 'ID_4']\n",
    "\n",
    "X = np.random.random_sample([5, 3])*10\n",
    "df = pd.DataFrame(X, columns=variables, index=labels)\n"
   ]
  },
  {
   "cell_type": "code",
   "execution_count": 29,
   "id": "431bdb6b",
   "metadata": {},
   "outputs": [
    {
     "name": "stdout",
     "output_type": "stream",
     "text": [
      "Cluster labels: [1 0 0 2 1]\n"
     ]
    }
   ],
   "source": [
    "from sklearn.cluster import AgglomerativeClustering\n",
    "ac = AgglomerativeClustering(n_clusters=3,\n",
    "                             linkage='complete',\n",
    "                             affinity= 'euclidean')\n",
    "\n",
    "labels = ac.fit_predict(X)\n",
    "print(f'Cluster labels: {labels}')"
   ]
  },
  {
   "cell_type": "code",
   "execution_count": 31,
   "id": "57d64a0e",
   "metadata": {},
   "outputs": [
    {
     "name": "stdout",
     "output_type": "stream",
     "text": [
      "CLuster labels: [0 3 1 2 0]\n"
     ]
    }
   ],
   "source": [
    "ac = AgglomerativeClustering(n_clusters=4,\n",
    "                            linkage='complete',\n",
    "                            affinity='euclidean')\n",
    "labels = ac.fit_predict(X)\n",
    "print(f'CLuster labels: {labels}')"
   ]
  },
  {
   "cell_type": "code",
   "execution_count": null,
   "id": "b912dc2f",
   "metadata": {},
   "outputs": [],
   "source": []
  }
 ],
 "metadata": {
  "kernelspec": {
   "display_name": "Python 3",
   "language": "python",
   "name": "python3"
  },
  "language_info": {
   "codemirror_mode": {
    "name": "ipython",
    "version": 3
   },
   "file_extension": ".py",
   "mimetype": "text/x-python",
   "name": "python",
   "nbconvert_exporter": "python",
   "pygments_lexer": "ipython3",
   "version": "3.8.8"
  }
 },
 "nbformat": 4,
 "nbformat_minor": 5
}
