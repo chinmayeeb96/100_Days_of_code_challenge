{
 "cells": [
  {
   "cell_type": "code",
   "execution_count": 1,
   "id": "e1607d9b",
   "metadata": {},
   "outputs": [
    {
     "name": "stdout",
     "output_type": "stream",
     "text": [
      "84.0\n",
      "Data type: <class 'numpy.float64'>\n"
     ]
    }
   ],
   "source": [
    "from scipy.special import comb\n",
    "print(comb(9,3))\n",
    "print('Data type:',type(comb(9,3)))"
   ]
  },
  {
   "cell_type": "code",
   "execution_count": 2,
   "id": "83b7a5a6",
   "metadata": {},
   "outputs": [
    {
     "name": "stdout",
     "output_type": "stream",
     "text": [
      "84\n",
      "Data type: <class 'sympy.core.numbers.Integer'>\n"
     ]
    }
   ],
   "source": [
    "from sympy import binomial\n",
    "print(binomial(9,3))\n",
    "print('Data type:',type(binomial(9,3)))"
   ]
  },
  {
   "cell_type": "code",
   "execution_count": null,
   "id": "6a979644",
   "metadata": {},
   "outputs": [],
   "source": [
    "from scipy.special import comb\n",
    "import math"
   ]
  },
  {
   "cell_type": "code",
   "execution_count": null,
   "id": "8f244721",
   "metadata": {},
   "outputs": [],
   "source": [
    "\n",
    "def ensemble_error(n_classifier, error):\n",
    "    k_start = int(math.ceil(n_classifier / 2.))\n",
    "    probs = [comb(n_classifier, k) * error**k * (1-error)**(n_classifier - k)\n",
    "             for k in range(k_start, n_classifier + 1)]\n",
    "    return sum(probs)"
   ]
  },
  {
   "cell_type": "code",
   "execution_count": null,
   "id": "6e76cabe",
   "metadata": {},
   "outputs": [],
   "source": [
    "ensemble_error(n_classifier=11, error=0.25)"
   ]
  },
  {
   "cell_type": "code",
   "execution_count": null,
   "id": "f4d29756",
   "metadata": {},
   "outputs": [],
   "source": [
    "import numpy as np\n",
    "import seaborn as sns\n",
    "import matplotlib.pyplot as plt"
   ]
  },
  {
   "cell_type": "code",
   "execution_count": null,
   "id": "13b85627",
   "metadata": {},
   "outputs": [],
   "source": [
    "error_range = np.arange(0.0, 1.01, 0.01)\n",
    "ens_errors = [ensemble_error(n_classifier=10, error=error)\n",
    "              for error in error_range]\n",
    "\n",
    "\n",
    "plt.plot(error_range, ens_errors, label='Ensemble_error', linewidth = 2,color = 'k')\n",
    "\n",
    "plt.plot(error_range, error_range, linestyle='-.', label='Base error', linewidth=2,color = 'm')\n",
    "\n",
    "plt.xlabel('Base error')\n",
    "plt.ylabel('Base/Ensemble error')\n",
    "plt.legend(loc='upper left')\n",
    "plt.grid(alpha=0.5)\n",
    "plt.savefig('/home/chinmayee/my_machine_learning_journey/100_Days_of_code_challenge/figures/Ensemble_error.png', dpi=300)\n",
    "plt.show()\n"
   ]
  },
  {
   "cell_type": "code",
   "execution_count": null,
   "id": "40873bbe",
   "metadata": {},
   "outputs": [],
   "source": []
  }
 ],
 "metadata": {
  "kernelspec": {
   "display_name": "Python 3",
   "language": "python",
   "name": "python3"
  },
  "language_info": {
   "codemirror_mode": {
    "name": "ipython",
    "version": 3
   },
   "file_extension": ".py",
   "mimetype": "text/x-python",
   "name": "python",
   "nbconvert_exporter": "python",
   "pygments_lexer": "ipython3",
   "version": "3.8.8"
  }
 },
 "nbformat": 4,
 "nbformat_minor": 5
}
