{
 "cells": [
  {
   "cell_type": "code",
   "execution_count": 1,
   "id": "cf55c550",
   "metadata": {},
   "outputs": [],
   "source": [
    "%matplotlib inline\n",
    "import matplotlib.pyplot as plt\n",
    "import numpy as np\n",
    "import pandas as pd\n",
    "\n",
    "fb = pd.read_csv(\n",
    "    'Dataset/data/fb_stock_prices_2018.csv', index_col='date', parse_dates=True\n",
    ")\n",
    "quakes = pd.read_csv('Dataset/data/earthquakes.csv')\n",
    "covid = pd.read_csv('Dataset/data/covid19_cases.csv').assign(\n",
    "    date=lambda x: pd.to_datetime(x.dateRep, format='%d/%m/%Y')\n",
    ").set_index('date').replace(\n",
    "    'United_States_of_America', 'USA'\n",
    ").sort_index()['2020-01-18':'2020-09-18']"
   ]
  },
  {
   "cell_type": "markdown",
   "id": "d8e6cb3e",
   "metadata": {},
   "source": [
    "### Stacked Bars"
   ]
  },
  {
   "cell_type": "code",
   "execution_count": 2,
   "id": "35b5c765",
   "metadata": {},
   "outputs": [
    {
     "data": {
      "text/html": [
       "<div>\n",
       "<style scoped>\n",
       "    .dataframe tbody tr th:only-of-type {\n",
       "        vertical-align: middle;\n",
       "    }\n",
       "\n",
       "    .dataframe tbody tr th {\n",
       "        vertical-align: top;\n",
       "    }\n",
       "\n",
       "    .dataframe thead th {\n",
       "        text-align: right;\n",
       "    }\n",
       "</style>\n",
       "<table border=\"1\" class=\"dataframe\">\n",
       "  <thead>\n",
       "    <tr style=\"text-align: right;\">\n",
       "      <th></th>\n",
       "      <th>mag</th>\n",
       "      <th>magType</th>\n",
       "      <th>time</th>\n",
       "      <th>place</th>\n",
       "      <th>tsunami</th>\n",
       "      <th>parsed_place</th>\n",
       "    </tr>\n",
       "  </thead>\n",
       "  <tbody>\n",
       "    <tr>\n",
       "      <th>0</th>\n",
       "      <td>1.35</td>\n",
       "      <td>ml</td>\n",
       "      <td>1539475168010</td>\n",
       "      <td>9km NE of Aguanga, CA</td>\n",
       "      <td>0</td>\n",
       "      <td>California</td>\n",
       "    </tr>\n",
       "    <tr>\n",
       "      <th>1</th>\n",
       "      <td>1.29</td>\n",
       "      <td>ml</td>\n",
       "      <td>1539475129610</td>\n",
       "      <td>9km NE of Aguanga, CA</td>\n",
       "      <td>0</td>\n",
       "      <td>California</td>\n",
       "    </tr>\n",
       "    <tr>\n",
       "      <th>2</th>\n",
       "      <td>3.42</td>\n",
       "      <td>ml</td>\n",
       "      <td>1539475062610</td>\n",
       "      <td>8km NE of Aguanga, CA</td>\n",
       "      <td>0</td>\n",
       "      <td>California</td>\n",
       "    </tr>\n",
       "    <tr>\n",
       "      <th>3</th>\n",
       "      <td>0.44</td>\n",
       "      <td>ml</td>\n",
       "      <td>1539474978070</td>\n",
       "      <td>9km NE of Aguanga, CA</td>\n",
       "      <td>0</td>\n",
       "      <td>California</td>\n",
       "    </tr>\n",
       "    <tr>\n",
       "      <th>4</th>\n",
       "      <td>2.16</td>\n",
       "      <td>md</td>\n",
       "      <td>1539474716050</td>\n",
       "      <td>10km NW of Avenal, CA</td>\n",
       "      <td>0</td>\n",
       "      <td>California</td>\n",
       "    </tr>\n",
       "  </tbody>\n",
       "</table>\n",
       "</div>"
      ],
      "text/plain": [
       "    mag magType           time                  place  tsunami parsed_place\n",
       "0  1.35      ml  1539475168010  9km NE of Aguanga, CA        0   California\n",
       "1  1.29      ml  1539475129610  9km NE of Aguanga, CA        0   California\n",
       "2  3.42      ml  1539475062610  8km NE of Aguanga, CA        0   California\n",
       "3  0.44      ml  1539474978070  9km NE of Aguanga, CA        0   California\n",
       "4  2.16      md  1539474716050  10km NW of Avenal, CA        0   California"
      ]
     },
     "execution_count": 2,
     "metadata": {},
     "output_type": "execute_result"
    }
   ],
   "source": [
    "quakes.head(5)"
   ]
  },
  {
   "cell_type": "code",
   "execution_count": 4,
   "id": "39ca8e17",
   "metadata": {},
   "outputs": [
    {
     "data": {
      "text/plain": [
       "<AxesSubplot:title={'center':'Earthquakes by integer magnitude and magType'}, xlabel='mag_bin', ylabel='earthquakes'>"
      ]
     },
     "execution_count": 4,
     "metadata": {},
     "output_type": "execute_result"
    },
    {
     "data": {
      "image/png": "[encoded data removed]",
      "text/plain": [
       "<Figure size 432x288 with 1 Axes>"
      ]
     },
     "metadata": {
      "needs_background": "light"
     },
     "output_type": "display_data"
    }
   ],
   "source": [
    "pivot = quakes.assign(\n",
    "    mag_bin = lambda x: np.floor(x.mag)\n",
    ").pivot_table(\n",
    "    index='mag_bin', columns='magType', values='mag', aggfunc='count'\n",
    ")\n",
    "pivot.plot.bar(\n",
    "    stacked=True, rot=0, ylabel='earthquakes', \n",
    "    title='Earthquakes by integer magnitude and magType'\n",
    ")"
   ]
  },
  {
   "cell_type": "markdown",
   "id": "9a5e0130",
   "metadata": {},
   "source": [
    "###  Normalized Stacked bars"
   ]
  },
  {
   "cell_type": "code",
   "execution_count": 5,
   "id": "d5fd5558",
   "metadata": {},
   "outputs": [
    {
     "data": {
      "text/plain": [
       "Text(0, 0.5, 'percentage')"
      ]
     },
     "execution_count": 5,
     "metadata": {},
     "output_type": "execute_result"
    },
    {
     "data": {
      "image/png": "[encoded data removed]",
      "text/plain": [
       "<Figure size 720x360 with 1 Axes>"
      ]
     },
     "metadata": {
      "needs_background": "light"
     },
     "output_type": "display_data"
    }
   ],
   "source": [
    "normalized_pivot = pivot.fillna(0).apply(lambda x: x / x.sum(), axis=1)\n",
    "ax = normalized_pivot.plot.bar(\n",
    "    stacked=True, rot=0, figsize=(10, 5),\n",
    "    title='Percentage of earthquakes by integer magnitude for each magType'\n",
    ")\n",
    "ax.legend(bbox_to_anchor=(1, 0.8)) # move legend to the right of the plot\n",
    "plt.ylabel('percentage') # label the axes (discussed in chapter 6)"
   ]
  },
  {
   "cell_type": "code",
   "execution_count": 6,
   "id": "dd824b30",
   "metadata": {},
   "outputs": [
    {
     "data": {
      "text/plain": [
       "Text(0, 0.5, '')"
      ]
     },
     "execution_count": 6,
     "metadata": {},
     "output_type": "execute_result"
    },
    {
     "data": {
      "image/png": "[encoded data removed]",
      "text/plain": [
       "<Figure size 432x288 with 1 Axes>"
      ]
     },
     "metadata": {
      "needs_background": "light"
     },
     "output_type": "display_data"
    }
   ],
   "source": [
    "quakes.groupby(['parsed_place', 'tsunami']).mag.count()\\\n",
    "    .unstack().apply(lambda x: x / x.sum(), axis=1)\\\n",
    "    .rename(columns={0: 'no', 1: 'yes'})\\\n",
    "    .sort_values('yes', ascending=False)[7::-1]\\\n",
    "    .plot.barh(\n",
    "        title='Frequency of a tsunami accompanying an earthquake', \n",
    "        stacked=True\n",
    "    )\n",
    "\n",
    "# move legend to the right of the plot\n",
    "plt.legend(title='tsunami?', bbox_to_anchor=(1, 0.65))\n",
    "\n",
    "# label the axes (discussed in chapter 6)\n",
    "plt.xlabel('percentage of earthquakes')\n",
    "plt.ylabel('')"
   ]
  },
  {
   "cell_type": "code",
   "execution_count": 9,
   "id": "221eeca0",
   "metadata": {},
   "outputs": [
    {
     "data": {
      "text/html": [
       "<div>\n",
       "<style scoped>\n",
       "    .dataframe tbody tr th:only-of-type {\n",
       "        vertical-align: middle;\n",
       "    }\n",
       "\n",
       "    .dataframe tbody tr th {\n",
       "        vertical-align: top;\n",
       "    }\n",
       "\n",
       "    .dataframe thead th {\n",
       "        text-align: right;\n",
       "    }\n",
       "</style>\n",
       "<table border=\"1\" class=\"dataframe\">\n",
       "  <thead>\n",
       "    <tr style=\"text-align: right;\">\n",
       "      <th></th>\n",
       "      <th>open</th>\n",
       "      <th>high</th>\n",
       "      <th>low</th>\n",
       "      <th>close</th>\n",
       "      <th>volume</th>\n",
       "    </tr>\n",
       "    <tr>\n",
       "      <th>date</th>\n",
       "      <th></th>\n",
       "      <th></th>\n",
       "      <th></th>\n",
       "      <th></th>\n",
       "      <th></th>\n",
       "    </tr>\n",
       "  </thead>\n",
       "  <tbody>\n",
       "    <tr>\n",
       "      <th>2018-01-02</th>\n",
       "      <td>177.68</td>\n",
       "      <td>181.58</td>\n",
       "      <td>177.5500</td>\n",
       "      <td>181.42</td>\n",
       "      <td>18151903</td>\n",
       "    </tr>\n",
       "    <tr>\n",
       "      <th>2018-01-03</th>\n",
       "      <td>181.88</td>\n",
       "      <td>184.78</td>\n",
       "      <td>181.3300</td>\n",
       "      <td>184.67</td>\n",
       "      <td>16886563</td>\n",
       "    </tr>\n",
       "    <tr>\n",
       "      <th>2018-01-04</th>\n",
       "      <td>184.90</td>\n",
       "      <td>186.21</td>\n",
       "      <td>184.0996</td>\n",
       "      <td>184.33</td>\n",
       "      <td>13880896</td>\n",
       "    </tr>\n",
       "    <tr>\n",
       "      <th>2018-01-05</th>\n",
       "      <td>185.59</td>\n",
       "      <td>186.90</td>\n",
       "      <td>184.9300</td>\n",
       "      <td>186.85</td>\n",
       "      <td>13574535</td>\n",
       "    </tr>\n",
       "    <tr>\n",
       "      <th>2018-01-08</th>\n",
       "      <td>187.20</td>\n",
       "      <td>188.90</td>\n",
       "      <td>186.3300</td>\n",
       "      <td>188.28</td>\n",
       "      <td>17994726</td>\n",
       "    </tr>\n",
       "  </tbody>\n",
       "</table>\n",
       "</div>"
      ],
      "text/plain": [
       "              open    high       low   close    volume\n",
       "date                                                  \n",
       "2018-01-02  177.68  181.58  177.5500  181.42  18151903\n",
       "2018-01-03  181.88  184.78  181.3300  184.67  16886563\n",
       "2018-01-04  184.90  186.21  184.0996  184.33  13880896\n",
       "2018-01-05  185.59  186.90  184.9300  186.85  13574535\n",
       "2018-01-08  187.20  188.90  186.3300  188.28  17994726"
      ]
     },
     "execution_count": 9,
     "metadata": {},
     "output_type": "execute_result"
    }
   ],
   "source": [
    "fb.head(5)"
   ]
  },
  {
   "cell_type": "markdown",
   "id": "e41f4ae2",
   "metadata": {},
   "source": [
    "### Hexbins"
   ]
  },
  {
   "cell_type": "code",
   "execution_count": 8,
   "id": "e163417a",
   "metadata": {},
   "outputs": [
    {
     "data": {
      "text/plain": [
       "<AxesSubplot:title={'center':'Facebook Daily High - Low vs. log(Volume Traded)'}, xlabel='log_volume', ylabel='max_abs_change'>"
      ]
     },
     "execution_count": 8,
     "metadata": {},
     "output_type": "execute_result"
    },
    {
     "data": {
      "image/png": "[encoded data removed]",
      "text/plain": [
       "<Figure size 432x288 with 2 Axes>"
      ]
     },
     "metadata": {
      "needs_background": "light"
     },
     "output_type": "display_data"
    }
   ],
   "source": [
    "fb.assign(\n",
    "    log_volume=np.log(fb.volume),\n",
    "    max_abs_change=fb.high - fb.low\n",
    ").plot(\n",
    "    kind='hexbin',\n",
    "    x='log_volume',\n",
    "    y='max_abs_change',\n",
    "    title='Facebook Daily High - Low vs. log(Volume Traded)',\n",
    "    gridsize=20, \n",
    "    sharex=False # we have to pass this to see the x-axis\n",
    ")"
   ]
  },
  {
   "cell_type": "code",
   "execution_count": 10,
   "id": "f4da2c02",
   "metadata": {},
   "outputs": [
    {
     "data": {
      "text/html": [
       "<div>\n",
       "<style scoped>\n",
       "    .dataframe tbody tr th:only-of-type {\n",
       "        vertical-align: middle;\n",
       "    }\n",
       "\n",
       "    .dataframe tbody tr th {\n",
       "        vertical-align: top;\n",
       "    }\n",
       "\n",
       "    .dataframe thead th {\n",
       "        text-align: right;\n",
       "    }\n",
       "</style>\n",
       "<table border=\"1\" class=\"dataframe\">\n",
       "  <thead>\n",
       "    <tr style=\"text-align: right;\">\n",
       "      <th></th>\n",
       "      <th>mag</th>\n",
       "      <th>magType</th>\n",
       "      <th>time</th>\n",
       "      <th>place</th>\n",
       "      <th>tsunami</th>\n",
       "      <th>parsed_place</th>\n",
       "    </tr>\n",
       "  </thead>\n",
       "  <tbody>\n",
       "    <tr>\n",
       "      <th>0</th>\n",
       "      <td>1.35</td>\n",
       "      <td>ml</td>\n",
       "      <td>1539475168010</td>\n",
       "      <td>9km NE of Aguanga, CA</td>\n",
       "      <td>0</td>\n",
       "      <td>California</td>\n",
       "    </tr>\n",
       "    <tr>\n",
       "      <th>1</th>\n",
       "      <td>1.29</td>\n",
       "      <td>ml</td>\n",
       "      <td>1539475129610</td>\n",
       "      <td>9km NE of Aguanga, CA</td>\n",
       "      <td>0</td>\n",
       "      <td>California</td>\n",
       "    </tr>\n",
       "    <tr>\n",
       "      <th>2</th>\n",
       "      <td>3.42</td>\n",
       "      <td>ml</td>\n",
       "      <td>1539475062610</td>\n",
       "      <td>8km NE of Aguanga, CA</td>\n",
       "      <td>0</td>\n",
       "      <td>California</td>\n",
       "    </tr>\n",
       "    <tr>\n",
       "      <th>3</th>\n",
       "      <td>0.44</td>\n",
       "      <td>ml</td>\n",
       "      <td>1539474978070</td>\n",
       "      <td>9km NE of Aguanga, CA</td>\n",
       "      <td>0</td>\n",
       "      <td>California</td>\n",
       "    </tr>\n",
       "    <tr>\n",
       "      <th>4</th>\n",
       "      <td>2.16</td>\n",
       "      <td>md</td>\n",
       "      <td>1539474716050</td>\n",
       "      <td>10km NW of Avenal, CA</td>\n",
       "      <td>0</td>\n",
       "      <td>California</td>\n",
       "    </tr>\n",
       "  </tbody>\n",
       "</table>\n",
       "</div>"
      ],
      "text/plain": [
       "    mag magType           time                  place  tsunami parsed_place\n",
       "0  1.35      ml  1539475168010  9km NE of Aguanga, CA        0   California\n",
       "1  1.29      ml  1539475129610  9km NE of Aguanga, CA        0   California\n",
       "2  3.42      ml  1539475062610  8km NE of Aguanga, CA        0   California\n",
       "3  0.44      ml  1539474978070  9km NE of Aguanga, CA        0   California\n",
       "4  2.16      md  1539474716050  10km NW of Avenal, CA        0   California"
      ]
     },
     "execution_count": 10,
     "metadata": {},
     "output_type": "execute_result"
    }
   ],
   "source": [
    "quakes.head(5)"
   ]
  },
  {
   "cell_type": "code",
   "execution_count": 11,
   "id": "e59bfdeb",
   "metadata": {},
   "outputs": [
    {
     "data": {
      "text/html": [
       "<div>\n",
       "<style scoped>\n",
       "    .dataframe tbody tr th:only-of-type {\n",
       "        vertical-align: middle;\n",
       "    }\n",
       "\n",
       "    .dataframe tbody tr th {\n",
       "        vertical-align: top;\n",
       "    }\n",
       "\n",
       "    .dataframe thead th {\n",
       "        text-align: right;\n",
       "    }\n",
       "</style>\n",
       "<table border=\"1\" class=\"dataframe\">\n",
       "  <thead>\n",
       "    <tr style=\"text-align: right;\">\n",
       "      <th></th>\n",
       "      <th>dateRep</th>\n",
       "      <th>day</th>\n",
       "      <th>month</th>\n",
       "      <th>year</th>\n",
       "      <th>cases</th>\n",
       "      <th>deaths</th>\n",
       "      <th>countriesAndTerritories</th>\n",
       "      <th>geoId</th>\n",
       "      <th>countryterritoryCode</th>\n",
       "      <th>popData2019</th>\n",
       "      <th>continentExp</th>\n",
       "      <th>Cumulative_number_for_14_days_of_COVID-19_cases_per_100000</th>\n",
       "    </tr>\n",
       "    <tr>\n",
       "      <th>date</th>\n",
       "      <th></th>\n",
       "      <th></th>\n",
       "      <th></th>\n",
       "      <th></th>\n",
       "      <th></th>\n",
       "      <th></th>\n",
       "      <th></th>\n",
       "      <th></th>\n",
       "      <th></th>\n",
       "      <th></th>\n",
       "      <th></th>\n",
       "      <th></th>\n",
       "    </tr>\n",
       "  </thead>\n",
       "  <tbody>\n",
       "    <tr>\n",
       "      <th>2020-01-18</th>\n",
       "      <td>18/01/2020</td>\n",
       "      <td>18</td>\n",
       "      <td>1</td>\n",
       "      <td>2020</td>\n",
       "      <td>0</td>\n",
       "      <td>0</td>\n",
       "      <td>Croatia</td>\n",
       "      <td>HR</td>\n",
       "      <td>HRV</td>\n",
       "      <td>4076246.0</td>\n",
       "      <td>Europe</td>\n",
       "      <td>0.0</td>\n",
       "    </tr>\n",
       "    <tr>\n",
       "      <th>2020-01-18</th>\n",
       "      <td>18/01/2020</td>\n",
       "      <td>18</td>\n",
       "      <td>1</td>\n",
       "      <td>2020</td>\n",
       "      <td>0</td>\n",
       "      <td>0</td>\n",
       "      <td>Greece</td>\n",
       "      <td>EL</td>\n",
       "      <td>GRC</td>\n",
       "      <td>10724599.0</td>\n",
       "      <td>Europe</td>\n",
       "      <td>0.0</td>\n",
       "    </tr>\n",
       "    <tr>\n",
       "      <th>2020-01-18</th>\n",
       "      <td>18/01/2020</td>\n",
       "      <td>18</td>\n",
       "      <td>1</td>\n",
       "      <td>2020</td>\n",
       "      <td>0</td>\n",
       "      <td>0</td>\n",
       "      <td>United_Kingdom</td>\n",
       "      <td>UK</td>\n",
       "      <td>GBR</td>\n",
       "      <td>66647112.0</td>\n",
       "      <td>Europe</td>\n",
       "      <td>0.0</td>\n",
       "    </tr>\n",
       "    <tr>\n",
       "      <th>2020-01-18</th>\n",
       "      <td>18/01/2020</td>\n",
       "      <td>18</td>\n",
       "      <td>1</td>\n",
       "      <td>2020</td>\n",
       "      <td>0</td>\n",
       "      <td>0</td>\n",
       "      <td>Azerbaijan</td>\n",
       "      <td>AZ</td>\n",
       "      <td>AZE</td>\n",
       "      <td>10047719.0</td>\n",
       "      <td>Europe</td>\n",
       "      <td>0.0</td>\n",
       "    </tr>\n",
       "    <tr>\n",
       "      <th>2020-01-18</th>\n",
       "      <td>18/01/2020</td>\n",
       "      <td>18</td>\n",
       "      <td>1</td>\n",
       "      <td>2020</td>\n",
       "      <td>0</td>\n",
       "      <td>0</td>\n",
       "      <td>Bahrain</td>\n",
       "      <td>BH</td>\n",
       "      <td>BHR</td>\n",
       "      <td>1641164.0</td>\n",
       "      <td>Asia</td>\n",
       "      <td>0.0</td>\n",
       "    </tr>\n",
       "  </tbody>\n",
       "</table>\n",
       "</div>"
      ],
      "text/plain": [
       "               dateRep  day  month  year  cases  deaths  \\\n",
       "date                                                      \n",
       "2020-01-18  18/01/2020   18      1  2020      0       0   \n",
       "2020-01-18  18/01/2020   18      1  2020      0       0   \n",
       "2020-01-18  18/01/2020   18      1  2020      0       0   \n",
       "2020-01-18  18/01/2020   18      1  2020      0       0   \n",
       "2020-01-18  18/01/2020   18      1  2020      0       0   \n",
       "\n",
       "           countriesAndTerritories geoId countryterritoryCode  popData2019  \\\n",
       "date                                                                         \n",
       "2020-01-18                 Croatia    HR                  HRV    4076246.0   \n",
       "2020-01-18                  Greece    EL                  GRC   10724599.0   \n",
       "2020-01-18          United_Kingdom    UK                  GBR   66647112.0   \n",
       "2020-01-18              Azerbaijan    AZ                  AZE   10047719.0   \n",
       "2020-01-18                 Bahrain    BH                  BHR    1641164.0   \n",
       "\n",
       "           continentExp  \\\n",
       "date                      \n",
       "2020-01-18       Europe   \n",
       "2020-01-18       Europe   \n",
       "2020-01-18       Europe   \n",
       "2020-01-18       Europe   \n",
       "2020-01-18         Asia   \n",
       "\n",
       "            Cumulative_number_for_14_days_of_COVID-19_cases_per_100000  \n",
       "date                                                                    \n",
       "2020-01-18                                                0.0           \n",
       "2020-01-18                                                0.0           \n",
       "2020-01-18                                                0.0           \n",
       "2020-01-18                                                0.0           \n",
       "2020-01-18                                                0.0           "
      ]
     },
     "execution_count": 11,
     "metadata": {},
     "output_type": "execute_result"
    }
   ],
   "source": [
    "covid.head(5)"
   ]
  },
  {
   "cell_type": "code",
   "execution_count": null,
   "id": "829d99eb",
   "metadata": {},
   "outputs": [],
   "source": []
  }
 ],
 "metadata": {
  "kernelspec": {
   "display_name": "Python 3",
   "language": "python",
   "name": "python3"
  },
  "language_info": {
   "codemirror_mode": {
    "name": "ipython",
    "version": 3
   },
   "file_extension": ".py",
   "mimetype": "text/x-python",
   "name": "python",
   "nbconvert_exporter": "python",
   "pygments_lexer": "ipython3",
   "version": "3.8.8"
  }
 },
 "nbformat": 4,
 "nbformat_minor": 5
}
