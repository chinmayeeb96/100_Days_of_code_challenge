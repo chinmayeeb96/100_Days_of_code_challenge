{
 "cells": [
  {
   "cell_type": "markdown",
   "id": "e4dd43e8",
   "metadata": {},
   "source": [
    "### Regression Feature Selection:\n",
    "#### (Numerical Input, Numerical Output)"
   ]
  },
  {
   "cell_type": "code",
   "execution_count": 1,
   "id": "25df261e",
   "metadata": {},
   "outputs": [
    {
     "name": "stdout",
     "output_type": "stream",
     "text": [
      "(100, 11)\n"
     ]
    }
   ],
   "source": [
    "# pearson's correlation feature selection for numeric input and numeric output\n",
    "\n",
    "from sklearn.datasets import make_regression\n",
    "from sklearn.feature_selection import SelectKBest\n",
    "from sklearn.feature_selection import f_regression\n",
    "\n",
    "# generate dataset\n",
    "X, y = make_regression(n_samples=100, n_features=100, n_informative=10)\n",
    "\n",
    "# define feature selection\n",
    "fs = SelectKBest(score_func=f_regression, k=11)\n",
    "# apply feature selection\n",
    "x_selected = fs.fit_transform(X, y)\n",
    "print(x_selected.shape)"
   ]
  },
  {
   "cell_type": "markdown",
   "id": "2bc0936d",
   "metadata": {},
   "source": [
    "### Classification Feature Selection:\n",
    "#### (Numerical Input, Categorical Output)"
   ]
  },
  {
   "cell_type": "code",
   "execution_count": 2,
   "id": "9d18763d",
   "metadata": {},
   "outputs": [
    {
     "name": "stdout",
     "output_type": "stream",
     "text": [
      "(100, 5)\n"
     ]
    }
   ],
   "source": [
    "\n",
    "from sklearn.datasets import make_classification\n",
    "from sklearn.feature_selection import SelectKBest\n",
    "from sklearn.feature_selection import f_classif\n",
    "\n",
    "# generate dataset\n",
    "X, y = make_classification(n_samples=100, n_features=100, n_informative=10)\n",
    "\n",
    "# define feature selection\n",
    "fs = SelectKBest(score_func=f_classif, k=5)\n",
    "# apply feature selection\n",
    "x_selected = fs.fit_transform(X, y)\n",
    "print(x_selected.shape)"
   ]
  },
  {
   "cell_type": "code",
   "execution_count": null,
   "id": "68080224",
   "metadata": {},
   "outputs": [],
   "source": []
  }
 ],
 "metadata": {
  "kernelspec": {
   "display_name": "Python 3",
   "language": "python",
   "name": "python3"
  },
  "language_info": {
   "codemirror_mode": {
    "name": "ipython",
    "version": 3
   },
   "file_extension": ".py",
   "mimetype": "text/x-python",
   "name": "python",
   "nbconvert_exporter": "python",
   "pygments_lexer": "ipython3",
   "version": "3.8.8"
  }
 },
 "nbformat": 4,
 "nbformat_minor": 5
}
