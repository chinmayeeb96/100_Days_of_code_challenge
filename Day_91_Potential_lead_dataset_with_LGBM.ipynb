{
 "cells": [
  {
   "cell_type": "code",
   "execution_count": 1,
   "id": "86e28985",
   "metadata": {
    "ExecuteTime": {
     "end_time": "2022-06-05T13:10:15.746721Z",
     "start_time": "2022-06-05T13:10:15.741053Z"
    }
   },
   "outputs": [],
   "source": [
    "import pandas as pd"
   ]
  },
  {
   "cell_type": "code",
   "execution_count": 2,
   "id": "5da640ec",
   "metadata": {
    "ExecuteTime": {
     "end_time": "2022-06-05T13:10:19.386510Z",
     "start_time": "2022-06-05T13:10:19.244897Z"
    }
   },
   "outputs": [
    {
     "data": {
      "text/html": [
       "<div>\n",
       "<style scoped>\n",
       "    .dataframe tbody tr th:only-of-type {\n",
       "        vertical-align: middle;\n",
       "    }\n",
       "\n",
       "    .dataframe tbody tr th {\n",
       "        vertical-align: top;\n",
       "    }\n",
       "\n",
       "    .dataframe thead th {\n",
       "        text-align: right;\n",
       "    }\n",
       "</style>\n",
       "<table border=\"1\" class=\"dataframe\">\n",
       "  <thead>\n",
       "    <tr style=\"text-align: right;\">\n",
       "      <th></th>\n",
       "      <th>id</th>\n",
       "      <th>created_at</th>\n",
       "      <th>campaign_var_1</th>\n",
       "      <th>campaign_var_2</th>\n",
       "      <th>products_purchased</th>\n",
       "      <th>signup_date</th>\n",
       "      <th>user_activity_var_1</th>\n",
       "      <th>user_activity_var_2</th>\n",
       "      <th>user_activity_var_3</th>\n",
       "      <th>user_activity_var_4</th>\n",
       "      <th>user_activity_var_5</th>\n",
       "      <th>user_activity_var_6</th>\n",
       "      <th>user_activity_var_7</th>\n",
       "      <th>user_activity_var_8</th>\n",
       "      <th>user_activity_var_9</th>\n",
       "      <th>user_activity_var_10</th>\n",
       "      <th>user_activity_var_11</th>\n",
       "      <th>user_activity_var_12</th>\n",
       "      <th>buy</th>\n",
       "    </tr>\n",
       "  </thead>\n",
       "  <tbody>\n",
       "    <tr>\n",
       "      <th>0</th>\n",
       "      <td>1</td>\n",
       "      <td>2021-01-01</td>\n",
       "      <td>1</td>\n",
       "      <td>2</td>\n",
       "      <td>2.0</td>\n",
       "      <td>2020-09-24</td>\n",
       "      <td>0</td>\n",
       "      <td>0</td>\n",
       "      <td>0</td>\n",
       "      <td>0</td>\n",
       "      <td>0</td>\n",
       "      <td>0</td>\n",
       "      <td>1</td>\n",
       "      <td>1</td>\n",
       "      <td>0</td>\n",
       "      <td>0</td>\n",
       "      <td>0</td>\n",
       "      <td>0</td>\n",
       "      <td>0</td>\n",
       "    </tr>\n",
       "    <tr>\n",
       "      <th>1</th>\n",
       "      <td>2</td>\n",
       "      <td>2021-01-01</td>\n",
       "      <td>2</td>\n",
       "      <td>1</td>\n",
       "      <td>2.0</td>\n",
       "      <td>2020-09-19</td>\n",
       "      <td>1</td>\n",
       "      <td>0</td>\n",
       "      <td>1</td>\n",
       "      <td>0</td>\n",
       "      <td>0</td>\n",
       "      <td>0</td>\n",
       "      <td>1</td>\n",
       "      <td>0</td>\n",
       "      <td>0</td>\n",
       "      <td>0</td>\n",
       "      <td>0</td>\n",
       "      <td>0</td>\n",
       "      <td>0</td>\n",
       "    </tr>\n",
       "    <tr>\n",
       "      <th>2</th>\n",
       "      <td>3</td>\n",
       "      <td>2021-01-01</td>\n",
       "      <td>9</td>\n",
       "      <td>3</td>\n",
       "      <td>3.0</td>\n",
       "      <td>2021-08-11</td>\n",
       "      <td>1</td>\n",
       "      <td>0</td>\n",
       "      <td>0</td>\n",
       "      <td>0</td>\n",
       "      <td>0</td>\n",
       "      <td>0</td>\n",
       "      <td>0</td>\n",
       "      <td>0</td>\n",
       "      <td>0</td>\n",
       "      <td>0</td>\n",
       "      <td>0</td>\n",
       "      <td>0</td>\n",
       "      <td>0</td>\n",
       "    </tr>\n",
       "    <tr>\n",
       "      <th>3</th>\n",
       "      <td>4</td>\n",
       "      <td>2021-01-01</td>\n",
       "      <td>6</td>\n",
       "      <td>7</td>\n",
       "      <td>2.0</td>\n",
       "      <td>2017-10-04</td>\n",
       "      <td>0</td>\n",
       "      <td>0</td>\n",
       "      <td>0</td>\n",
       "      <td>0</td>\n",
       "      <td>0</td>\n",
       "      <td>0</td>\n",
       "      <td>0</td>\n",
       "      <td>0</td>\n",
       "      <td>0</td>\n",
       "      <td>0</td>\n",
       "      <td>0</td>\n",
       "      <td>0</td>\n",
       "      <td>0</td>\n",
       "    </tr>\n",
       "    <tr>\n",
       "      <th>4</th>\n",
       "      <td>5</td>\n",
       "      <td>2021-01-01</td>\n",
       "      <td>4</td>\n",
       "      <td>6</td>\n",
       "      <td>NaN</td>\n",
       "      <td>2020-06-08</td>\n",
       "      <td>0</td>\n",
       "      <td>0</td>\n",
       "      <td>0</td>\n",
       "      <td>0</td>\n",
       "      <td>0</td>\n",
       "      <td>0</td>\n",
       "      <td>1</td>\n",
       "      <td>0</td>\n",
       "      <td>0</td>\n",
       "      <td>0</td>\n",
       "      <td>1</td>\n",
       "      <td>0</td>\n",
       "      <td>0</td>\n",
       "    </tr>\n",
       "  </tbody>\n",
       "</table>\n",
       "</div>"
      ],
      "text/plain": [
       "   id  created_at  campaign_var_1  campaign_var_2  products_purchased  \\\n",
       "0   1  2021-01-01               1               2                 2.0   \n",
       "1   2  2021-01-01               2               1                 2.0   \n",
       "2   3  2021-01-01               9               3                 3.0   \n",
       "3   4  2021-01-01               6               7                 2.0   \n",
       "4   5  2021-01-01               4               6                 NaN   \n",
       "\n",
       "  signup_date  user_activity_var_1  user_activity_var_2  user_activity_var_3  \\\n",
       "0  2020-09-24                    0                    0                    0   \n",
       "1  2020-09-19                    1                    0                    1   \n",
       "2  2021-08-11                    1                    0                    0   \n",
       "3  2017-10-04                    0                    0                    0   \n",
       "4  2020-06-08                    0                    0                    0   \n",
       "\n",
       "   user_activity_var_4  user_activity_var_5  user_activity_var_6  \\\n",
       "0                    0                    0                    0   \n",
       "1                    0                    0                    0   \n",
       "2                    0                    0                    0   \n",
       "3                    0                    0                    0   \n",
       "4                    0                    0                    0   \n",
       "\n",
       "   user_activity_var_7  user_activity_var_8  user_activity_var_9  \\\n",
       "0                    1                    1                    0   \n",
       "1                    1                    0                    0   \n",
       "2                    0                    0                    0   \n",
       "3                    0                    0                    0   \n",
       "4                    1                    0                    0   \n",
       "\n",
       "   user_activity_var_10  user_activity_var_11  user_activity_var_12  buy  \n",
       "0                     0                     0                     0    0  \n",
       "1                     0                     0                     0    0  \n",
       "2                     0                     0                     0    0  \n",
       "3                     0                     0                     0    0  \n",
       "4                     0                     1                     0    0  "
      ]
     },
     "execution_count": 2,
     "metadata": {},
     "output_type": "execute_result"
    }
   ],
   "source": [
    "df_train = pd.read_csv('train_wn75k28.csv')\n",
    "df_test = pd.read_csv('test_Wf7sxXF.csv')\n",
    "df_train.head(5)"
   ]
  },
  {
   "cell_type": "code",
   "execution_count": 5,
   "id": "dc4a25f0",
   "metadata": {
    "ExecuteTime": {
     "end_time": "2022-06-05T13:16:49.113186Z",
     "start_time": "2022-06-05T13:16:49.101599Z"
    }
   },
   "outputs": [],
   "source": [
    "df_train['signup_date_isnull']  = df_train['signup_date'].isnull().astype(int)\n",
    "df_test['signup_date_isnull']  = df_test['signup_date'].isnull().astype(int)\n",
    "\n"
   ]
  },
  {
   "cell_type": "code",
   "execution_count": 6,
   "id": "ee21fffd",
   "metadata": {
    "ExecuteTime": {
     "end_time": "2022-06-05T13:20:23.154706Z",
     "start_time": "2022-06-05T13:20:23.129602Z"
    }
   },
   "outputs": [],
   "source": [
    "df_train['signup_date_month'] = pd.to_datetime(df_train['signup_date']).dt.month\n",
    "df_test['signup_date_month'] = pd.to_datetime(df_test['signup_date']).dt.month\n",
    "\n"
   ]
  },
  {
   "cell_type": "code",
   "execution_count": 7,
   "id": "59f6b265",
   "metadata": {
    "ExecuteTime": {
     "end_time": "2022-06-05T13:21:00.612003Z",
     "start_time": "2022-06-05T13:21:00.602126Z"
    }
   },
   "outputs": [],
   "source": [
    "df_train['signup_date_month'] = df_train['signup_date_month'].fillna(df_train['signup_date_month'].mode()[0])\n",
    "df_test['signup_date_month'] = df_test['signup_date_month'].fillna(df_train['signup_date_month'].mode()[0])\n",
    "\n"
   ]
  },
  {
   "cell_type": "code",
   "execution_count": 9,
   "id": "31640ccc",
   "metadata": {
    "ExecuteTime": {
     "end_time": "2022-06-05T13:21:04.790761Z",
     "start_time": "2022-06-05T13:21:04.758241Z"
    }
   },
   "outputs": [
    {
     "data": {
      "text/plain": [
       "dtype('<M8[ns]')"
      ]
     },
     "execution_count": 9,
     "metadata": {},
     "output_type": "execute_result"
    }
   ],
   "source": [
    "df_train['created_at'] = pd.to_datetime(df_train.created_at)\n",
    "df_train['created_at'].dtypes"
   ]
  },
  {
   "cell_type": "code",
   "execution_count": 10,
   "id": "69246728",
   "metadata": {
    "ExecuteTime": {
     "end_time": "2022-06-05T13:21:05.140628Z",
     "start_time": "2022-06-05T13:21:05.112526Z"
    }
   },
   "outputs": [
    {
     "data": {
      "text/plain": [
       "dtype('<M8[ns]')"
      ]
     },
     "execution_count": 10,
     "metadata": {},
     "output_type": "execute_result"
    }
   ],
   "source": [
    "df_test['created_at'] = pd.to_datetime(df_test.created_at)\n",
    "df_test['created_at'].dtypes"
   ]
  },
  {
   "cell_type": "code",
   "execution_count": 11,
   "id": "69e13d0e",
   "metadata": {
    "ExecuteTime": {
     "end_time": "2022-06-05T13:21:08.763252Z",
     "start_time": "2022-06-05T13:21:08.701713Z"
    }
   },
   "outputs": [
    {
     "data": {
      "text/html": [
       "<div>\n",
       "<style scoped>\n",
       "    .dataframe tbody tr th:only-of-type {\n",
       "        vertical-align: middle;\n",
       "    }\n",
       "\n",
       "    .dataframe tbody tr th {\n",
       "        vertical-align: top;\n",
       "    }\n",
       "\n",
       "    .dataframe thead th {\n",
       "        text-align: right;\n",
       "    }\n",
       "</style>\n",
       "<table border=\"1\" class=\"dataframe\">\n",
       "  <thead>\n",
       "    <tr style=\"text-align: right;\">\n",
       "      <th></th>\n",
       "      <th>id</th>\n",
       "      <th>created_at</th>\n",
       "      <th>campaign_var_1</th>\n",
       "      <th>campaign_var_2</th>\n",
       "      <th>products_purchased</th>\n",
       "      <th>signup_date</th>\n",
       "      <th>user_activity_var_1</th>\n",
       "      <th>user_activity_var_2</th>\n",
       "      <th>user_activity_var_3</th>\n",
       "      <th>user_activity_var_4</th>\n",
       "      <th>...</th>\n",
       "      <th>user_activity_var_9</th>\n",
       "      <th>user_activity_var_10</th>\n",
       "      <th>user_activity_var_11</th>\n",
       "      <th>user_activity_var_12</th>\n",
       "      <th>buy</th>\n",
       "      <th>signup_date_isnull</th>\n",
       "      <th>signup_date_month</th>\n",
       "      <th>created_month</th>\n",
       "      <th>created_week</th>\n",
       "      <th>created_day</th>\n",
       "    </tr>\n",
       "  </thead>\n",
       "  <tbody>\n",
       "    <tr>\n",
       "      <th>0</th>\n",
       "      <td>1</td>\n",
       "      <td>2021-01-01</td>\n",
       "      <td>1</td>\n",
       "      <td>2</td>\n",
       "      <td>2.0</td>\n",
       "      <td>2020-09-24</td>\n",
       "      <td>0</td>\n",
       "      <td>0</td>\n",
       "      <td>0</td>\n",
       "      <td>0</td>\n",
       "      <td>...</td>\n",
       "      <td>0</td>\n",
       "      <td>0</td>\n",
       "      <td>0</td>\n",
       "      <td>0</td>\n",
       "      <td>0</td>\n",
       "      <td>0</td>\n",
       "      <td>9.0</td>\n",
       "      <td>1</td>\n",
       "      <td>53</td>\n",
       "      <td>1</td>\n",
       "    </tr>\n",
       "    <tr>\n",
       "      <th>1</th>\n",
       "      <td>2</td>\n",
       "      <td>2021-01-01</td>\n",
       "      <td>2</td>\n",
       "      <td>1</td>\n",
       "      <td>2.0</td>\n",
       "      <td>2020-09-19</td>\n",
       "      <td>1</td>\n",
       "      <td>0</td>\n",
       "      <td>1</td>\n",
       "      <td>0</td>\n",
       "      <td>...</td>\n",
       "      <td>0</td>\n",
       "      <td>0</td>\n",
       "      <td>0</td>\n",
       "      <td>0</td>\n",
       "      <td>0</td>\n",
       "      <td>0</td>\n",
       "      <td>9.0</td>\n",
       "      <td>1</td>\n",
       "      <td>53</td>\n",
       "      <td>1</td>\n",
       "    </tr>\n",
       "    <tr>\n",
       "      <th>2</th>\n",
       "      <td>3</td>\n",
       "      <td>2021-01-01</td>\n",
       "      <td>9</td>\n",
       "      <td>3</td>\n",
       "      <td>3.0</td>\n",
       "      <td>2021-08-11</td>\n",
       "      <td>1</td>\n",
       "      <td>0</td>\n",
       "      <td>0</td>\n",
       "      <td>0</td>\n",
       "      <td>...</td>\n",
       "      <td>0</td>\n",
       "      <td>0</td>\n",
       "      <td>0</td>\n",
       "      <td>0</td>\n",
       "      <td>0</td>\n",
       "      <td>0</td>\n",
       "      <td>8.0</td>\n",
       "      <td>1</td>\n",
       "      <td>53</td>\n",
       "      <td>1</td>\n",
       "    </tr>\n",
       "  </tbody>\n",
       "</table>\n",
       "<p>3 rows × 24 columns</p>\n",
       "</div>"
      ],
      "text/plain": [
       "   id created_at  campaign_var_1  campaign_var_2  products_purchased  \\\n",
       "0   1 2021-01-01               1               2                 2.0   \n",
       "1   2 2021-01-01               2               1                 2.0   \n",
       "2   3 2021-01-01               9               3                 3.0   \n",
       "\n",
       "  signup_date  user_activity_var_1  user_activity_var_2  user_activity_var_3  \\\n",
       "0  2020-09-24                    0                    0                    0   \n",
       "1  2020-09-19                    1                    0                    1   \n",
       "2  2021-08-11                    1                    0                    0   \n",
       "\n",
       "   user_activity_var_4  ...  user_activity_var_9  user_activity_var_10  \\\n",
       "0                    0  ...                    0                     0   \n",
       "1                    0  ...                    0                     0   \n",
       "2                    0  ...                    0                     0   \n",
       "\n",
       "   user_activity_var_11  user_activity_var_12  buy  signup_date_isnull  \\\n",
       "0                     0                     0    0                   0   \n",
       "1                     0                     0    0                   0   \n",
       "2                     0                     0    0                   0   \n",
       "\n",
       "   signup_date_month  created_month  created_week  created_day  \n",
       "0                9.0              1            53            1  \n",
       "1                9.0              1            53            1  \n",
       "2                8.0              1            53            1  \n",
       "\n",
       "[3 rows x 24 columns]"
      ]
     },
     "execution_count": 11,
     "metadata": {},
     "output_type": "execute_result"
    }
   ],
   "source": [
    "df_train['created_month'] = df_train['created_at'].dt.month\n",
    "df_train['created_week'] = df_train['created_at'].dt.isocalendar().week.astype(\"int64\")\n",
    "df_train['created_day'] = df_train['created_at'].dt.day\n",
    "df_train.head(3)"
   ]
  },
  {
   "cell_type": "code",
   "execution_count": 12,
   "id": "deb72ab0",
   "metadata": {
    "ExecuteTime": {
     "end_time": "2022-06-05T13:21:11.253659Z",
     "start_time": "2022-06-05T13:21:11.104588Z"
    }
   },
   "outputs": [
    {
     "data": {
      "text/html": [
       "<div>\n",
       "<style scoped>\n",
       "    .dataframe tbody tr th:only-of-type {\n",
       "        vertical-align: middle;\n",
       "    }\n",
       "\n",
       "    .dataframe tbody tr th {\n",
       "        vertical-align: top;\n",
       "    }\n",
       "\n",
       "    .dataframe thead th {\n",
       "        text-align: right;\n",
       "    }\n",
       "</style>\n",
       "<table border=\"1\" class=\"dataframe\">\n",
       "  <thead>\n",
       "    <tr style=\"text-align: right;\">\n",
       "      <th></th>\n",
       "      <th>id</th>\n",
       "      <th>created_at</th>\n",
       "      <th>campaign_var_1</th>\n",
       "      <th>campaign_var_2</th>\n",
       "      <th>products_purchased</th>\n",
       "      <th>signup_date</th>\n",
       "      <th>user_activity_var_1</th>\n",
       "      <th>user_activity_var_2</th>\n",
       "      <th>user_activity_var_3</th>\n",
       "      <th>user_activity_var_4</th>\n",
       "      <th>...</th>\n",
       "      <th>user_activity_var_8</th>\n",
       "      <th>user_activity_var_9</th>\n",
       "      <th>user_activity_var_10</th>\n",
       "      <th>user_activity_var_11</th>\n",
       "      <th>user_activity_var_12</th>\n",
       "      <th>signup_date_isnull</th>\n",
       "      <th>signup_date_month</th>\n",
       "      <th>created_month</th>\n",
       "      <th>created_week</th>\n",
       "      <th>created_day</th>\n",
       "    </tr>\n",
       "  </thead>\n",
       "  <tbody>\n",
       "    <tr>\n",
       "      <th>0</th>\n",
       "      <td>39162</td>\n",
       "      <td>2022-01-01</td>\n",
       "      <td>2</td>\n",
       "      <td>2</td>\n",
       "      <td>NaN</td>\n",
       "      <td>2021-08-17</td>\n",
       "      <td>1</td>\n",
       "      <td>1</td>\n",
       "      <td>0</td>\n",
       "      <td>0</td>\n",
       "      <td>...</td>\n",
       "      <td>0</td>\n",
       "      <td>0</td>\n",
       "      <td>0</td>\n",
       "      <td>1</td>\n",
       "      <td>0</td>\n",
       "      <td>0</td>\n",
       "      <td>8.0</td>\n",
       "      <td>1</td>\n",
       "      <td>52</td>\n",
       "      <td>1</td>\n",
       "    </tr>\n",
       "    <tr>\n",
       "      <th>1</th>\n",
       "      <td>39163</td>\n",
       "      <td>2022-01-01</td>\n",
       "      <td>4</td>\n",
       "      <td>7</td>\n",
       "      <td>3.0</td>\n",
       "      <td>2020-05-21</td>\n",
       "      <td>1</td>\n",
       "      <td>0</td>\n",
       "      <td>0</td>\n",
       "      <td>0</td>\n",
       "      <td>...</td>\n",
       "      <td>1</td>\n",
       "      <td>0</td>\n",
       "      <td>0</td>\n",
       "      <td>0</td>\n",
       "      <td>0</td>\n",
       "      <td>0</td>\n",
       "      <td>5.0</td>\n",
       "      <td>1</td>\n",
       "      <td>52</td>\n",
       "      <td>1</td>\n",
       "    </tr>\n",
       "    <tr>\n",
       "      <th>2</th>\n",
       "      <td>39164</td>\n",
       "      <td>2022-01-01</td>\n",
       "      <td>8</td>\n",
       "      <td>7</td>\n",
       "      <td>NaN</td>\n",
       "      <td>NaN</td>\n",
       "      <td>0</td>\n",
       "      <td>0</td>\n",
       "      <td>0</td>\n",
       "      <td>0</td>\n",
       "      <td>...</td>\n",
       "      <td>0</td>\n",
       "      <td>0</td>\n",
       "      <td>0</td>\n",
       "      <td>0</td>\n",
       "      <td>0</td>\n",
       "      <td>1</td>\n",
       "      <td>3.0</td>\n",
       "      <td>1</td>\n",
       "      <td>52</td>\n",
       "      <td>1</td>\n",
       "    </tr>\n",
       "  </tbody>\n",
       "</table>\n",
       "<p>3 rows × 23 columns</p>\n",
       "</div>"
      ],
      "text/plain": [
       "      id created_at  campaign_var_1  campaign_var_2  products_purchased  \\\n",
       "0  39162 2022-01-01               2               2                 NaN   \n",
       "1  39163 2022-01-01               4               7                 3.0   \n",
       "2  39164 2022-01-01               8               7                 NaN   \n",
       "\n",
       "  signup_date  user_activity_var_1  user_activity_var_2  user_activity_var_3  \\\n",
       "0  2021-08-17                    1                    1                    0   \n",
       "1  2020-05-21                    1                    0                    0   \n",
       "2         NaN                    0                    0                    0   \n",
       "\n",
       "   user_activity_var_4  ...  user_activity_var_8  user_activity_var_9  \\\n",
       "0                    0  ...                    0                    0   \n",
       "1                    0  ...                    1                    0   \n",
       "2                    0  ...                    0                    0   \n",
       "\n",
       "   user_activity_var_10  user_activity_var_11  user_activity_var_12  \\\n",
       "0                     0                     1                     0   \n",
       "1                     0                     0                     0   \n",
       "2                     0                     0                     0   \n",
       "\n",
       "   signup_date_isnull  signup_date_month  created_month  created_week  \\\n",
       "0                   0                8.0              1            52   \n",
       "1                   0                5.0              1            52   \n",
       "2                   1                3.0              1            52   \n",
       "\n",
       "   created_day  \n",
       "0            1  \n",
       "1            1  \n",
       "2            1  \n",
       "\n",
       "[3 rows x 23 columns]"
      ]
     },
     "execution_count": 12,
     "metadata": {},
     "output_type": "execute_result"
    }
   ],
   "source": [
    "df_test['created_month'] = df_test['created_at'].dt.month\n",
    "df_test['created_week'] = df_test['created_at'].dt.isocalendar().week.astype(\"int64\")\n",
    "df_test['created_day'] = df_test['created_at'].dt.day\n",
    "df_test.head(3)"
   ]
  },
  {
   "cell_type": "code",
   "execution_count": 13,
   "id": "c55cbaa7",
   "metadata": {
    "ExecuteTime": {
     "end_time": "2022-06-05T13:21:11.651847Z",
     "start_time": "2022-06-05T13:21:11.609603Z"
    }
   },
   "outputs": [
    {
     "name": "stdout",
     "output_type": "stream",
     "text": [
      "Train dataset : id                               int64\n",
      "created_at              datetime64[ns]\n",
      "campaign_var_1                   int64\n",
      "campaign_var_2                   int64\n",
      "products_purchased             float64\n",
      "signup_date                     object\n",
      "user_activity_var_1              int64\n",
      "user_activity_var_2              int64\n",
      "user_activity_var_3              int64\n",
      "user_activity_var_4              int64\n",
      "user_activity_var_5              int64\n",
      "user_activity_var_6              int64\n",
      "user_activity_var_7              int64\n",
      "user_activity_var_8              int64\n",
      "user_activity_var_9              int64\n",
      "user_activity_var_10             int64\n",
      "user_activity_var_11             int64\n",
      "user_activity_var_12             int64\n",
      "buy                              int64\n",
      "signup_date_isnull               int64\n",
      "signup_date_month              float64\n",
      "created_month                    int64\n",
      "created_week                     int64\n",
      "created_day                      int64\n",
      "dtype: object\n",
      "Test dataset : id                               int64\n",
      "created_at              datetime64[ns]\n",
      "campaign_var_1                   int64\n",
      "campaign_var_2                   int64\n",
      "products_purchased             float64\n",
      "signup_date                     object\n",
      "user_activity_var_1              int64\n",
      "user_activity_var_2              int64\n",
      "user_activity_var_3              int64\n",
      "user_activity_var_4              int64\n",
      "user_activity_var_5              int64\n",
      "user_activity_var_6              int64\n",
      "user_activity_var_7              int64\n",
      "user_activity_var_8              int64\n",
      "user_activity_var_9              int64\n",
      "user_activity_var_10             int64\n",
      "user_activity_var_11             int64\n",
      "user_activity_var_12             int64\n",
      "signup_date_isnull               int64\n",
      "signup_date_month              float64\n",
      "created_month                    int64\n",
      "created_week                     int64\n",
      "created_day                      int64\n",
      "dtype: object\n",
      "\n",
      "\n",
      "Null Values\n",
      "\n",
      "Train dataset : id                          0\n",
      "created_at                  0\n",
      "campaign_var_1              0\n",
      "campaign_var_2              0\n",
      "products_purchased      20911\n",
      "signup_date             15113\n",
      "user_activity_var_1         0\n",
      "user_activity_var_2         0\n",
      "user_activity_var_3         0\n",
      "user_activity_var_4         0\n",
      "user_activity_var_5         0\n",
      "user_activity_var_6         0\n",
      "user_activity_var_7         0\n",
      "user_activity_var_8         0\n",
      "user_activity_var_9         0\n",
      "user_activity_var_10        0\n",
      "user_activity_var_11        0\n",
      "user_activity_var_12        0\n",
      "buy                         0\n",
      "signup_date_isnull          0\n",
      "signup_date_month           0\n",
      "created_month               0\n",
      "created_week                0\n",
      "created_day                 0\n",
      "dtype: int64\n",
      "\n",
      "Test dataset : id                         0\n",
      "created_at                 0\n",
      "campaign_var_1             0\n",
      "campaign_var_2             0\n",
      "products_purchased      8136\n",
      "signup_date             6649\n",
      "user_activity_var_1        0\n",
      "user_activity_var_2        0\n",
      "user_activity_var_3        0\n",
      "user_activity_var_4        0\n",
      "user_activity_var_5        0\n",
      "user_activity_var_6        0\n",
      "user_activity_var_7        0\n",
      "user_activity_var_8        0\n",
      "user_activity_var_9        0\n",
      "user_activity_var_10       0\n",
      "user_activity_var_11       0\n",
      "user_activity_var_12       0\n",
      "signup_date_isnull         0\n",
      "signup_date_month          0\n",
      "created_month              0\n",
      "created_week               0\n",
      "created_day                0\n",
      "dtype: int64\n"
     ]
    }
   ],
   "source": [
    "# Printing data types of each data set\n",
    "print('Train dataset :', df_train.dtypes)\n",
    "print('Test dataset :', df_test.dtypes)\n",
    "\n",
    "\n",
    "# Printing the null values in each column\n",
    "print('\\n\\nNull Values')\n",
    "print('\\nTrain dataset :', df_train.isnull().sum())\n",
    "print('\\nTest dataset :', df_test.isnull().sum())\n",
    "\n"
   ]
  },
  {
   "cell_type": "code",
   "execution_count": 14,
   "id": "45bf353a",
   "metadata": {
    "ExecuteTime": {
     "end_time": "2022-06-05T13:21:12.873799Z",
     "start_time": "2022-06-05T13:21:12.834762Z"
    }
   },
   "outputs": [
    {
     "name": "stdout",
     "output_type": "stream",
     "text": [
      "(39161, 20)\n",
      "(13184, 20)\n"
     ]
    }
   ],
   "source": [
    "X_train = df_train.drop(['signup_date','buy', 'products_purchased',\n",
    "                         'created_at'], axis=1)\n",
    "print(X_train.shape)\n",
    "X_test = df_test.drop(['signup_date','products_purchased',\n",
    "                       'created_at'], axis=1)\n",
    "print(X_test.shape)\n",
    "y_train = df_train['buy']"
   ]
  },
  {
   "cell_type": "code",
   "execution_count": 15,
   "id": "db8b1820",
   "metadata": {
    "ExecuteTime": {
     "end_time": "2022-06-05T13:21:13.392241Z",
     "start_time": "2022-06-05T13:21:13.377367Z"
    }
   },
   "outputs": [
    {
     "name": "stdout",
     "output_type": "stream",
     "text": [
      "\n",
      "Train dataset : id                      0\n",
      "campaign_var_1          0\n",
      "campaign_var_2          0\n",
      "user_activity_var_1     0\n",
      "user_activity_var_2     0\n",
      "user_activity_var_3     0\n",
      "user_activity_var_4     0\n",
      "user_activity_var_5     0\n",
      "user_activity_var_6     0\n",
      "user_activity_var_7     0\n",
      "user_activity_var_8     0\n",
      "user_activity_var_9     0\n",
      "user_activity_var_10    0\n",
      "user_activity_var_11    0\n",
      "user_activity_var_12    0\n",
      "signup_date_isnull      0\n",
      "signup_date_month       0\n",
      "created_month           0\n",
      "created_week            0\n",
      "created_day             0\n",
      "dtype: int64\n",
      "\n",
      "Test dataset : id                      0\n",
      "campaign_var_1          0\n",
      "campaign_var_2          0\n",
      "user_activity_var_1     0\n",
      "user_activity_var_2     0\n",
      "user_activity_var_3     0\n",
      "user_activity_var_4     0\n",
      "user_activity_var_5     0\n",
      "user_activity_var_6     0\n",
      "user_activity_var_7     0\n",
      "user_activity_var_8     0\n",
      "user_activity_var_9     0\n",
      "user_activity_var_10    0\n",
      "user_activity_var_11    0\n",
      "user_activity_var_12    0\n",
      "signup_date_isnull      0\n",
      "signup_date_month       0\n",
      "created_month           0\n",
      "created_week            0\n",
      "created_day             0\n",
      "dtype: int64\n"
     ]
    }
   ],
   "source": [
    "print('\\nTrain dataset :', X_train.isnull().sum())\n",
    "print('\\nTest dataset :', X_test.isnull().sum())"
   ]
  },
  {
   "cell_type": "code",
   "execution_count": null,
   "id": "031fc8b5",
   "metadata": {},
   "outputs": [],
   "source": []
  },
  {
   "cell_type": "code",
   "execution_count": 16,
   "id": "86ce2dcf",
   "metadata": {
    "ExecuteTime": {
     "end_time": "2022-06-05T13:21:49.242979Z",
     "start_time": "2022-06-05T13:21:49.201803Z"
    }
   },
   "outputs": [],
   "source": [
    "from sklearn.preprocessing import StandardScaler\n",
    "\n",
    "sc = StandardScaler()\n",
    "sc.fit(X_train)\n",
    "X_train_std = sc.transform(X_train)\n",
    "X_test_std = sc.transform(X_test)\n"
   ]
  },
  {
   "cell_type": "code",
   "execution_count": 17,
   "id": "f9ce0b33",
   "metadata": {
    "ExecuteTime": {
     "end_time": "2022-06-05T13:21:50.695000Z",
     "start_time": "2022-06-05T13:21:50.689455Z"
    }
   },
   "outputs": [],
   "source": [
    "\n",
    "\n",
    "import xgboost as xgb\n",
    "from sklearn.metrics import f1_score\n",
    "model = xgb.XGBClassifier(n_estimators=1000, learning_rate=0.05,\n",
    "                           max_depth=4, random_state=1,\n",
    "                           use_label_encoder=True)"
   ]
  },
  {
   "cell_type": "code",
   "execution_count": null,
   "id": "b11669a2",
   "metadata": {},
   "outputs": [],
   "source": []
  },
  {
   "cell_type": "code",
   "execution_count": 19,
   "id": "26ecb516",
   "metadata": {
    "ExecuteTime": {
     "end_time": "2022-06-05T13:22:18.877136Z",
     "start_time": "2022-06-05T13:21:52.228718Z"
    }
   },
   "outputs": [
    {
     "name": "stderr",
     "output_type": "stream",
     "text": [
      "/home/chinmayee/anaconda3/lib/python3.8/site-packages/xgboost/sklearn.py:1224: UserWarning: The use of label encoder in XGBClassifier is deprecated and will be removed in a future release. To remove this warning, do the following: 1) Pass option use_label_encoder=False when constructing XGBClassifier object; and 2) Encode your labels (y) as integers starting with 0, i.e. 0, 1, 2, ..., [num_class - 1].\n",
      "  warnings.warn(label_encoder_deprecation_msg, UserWarning)\n"
     ]
    },
    {
     "name": "stdout",
     "output_type": "stream",
     "text": [
      "[20:10:36] WARNING: ../src/learner.cc:1115: Starting in XGBoost 1.3.0, the default evaluation metric used with the objective 'binary:logistic' was changed from 'error' to 'logloss'. Explicitly set eval_metric if you'd like to restore the old behavior.\n",
      "XGboost train accuracies 0.734\n"
     ]
    }
   ],
   "source": [
    "gbm = model.fit(X_train, y_train)\n",
    "\n",
    "y_train_pred = gbm.predict(X_train)\n",
    "y_test = gbm.predict(X_test)\n",
    "\n",
    "gbm_train = f1_score(y_train, y_train_pred)\n",
    "\n",
    "\n",
    "\n",
    "\n",
    "print(f'XGboost train accuracies 'f'{gbm_train:.3f}')"
   ]
  },
  {
   "cell_type": "code",
   "execution_count": 20,
   "id": "d3af9f38",
   "metadata": {
    "ExecuteTime": {
     "end_time": "2022-06-05T13:22:18.964209Z",
     "start_time": "2022-06-05T13:22:18.932163Z"
    }
   },
   "outputs": [
    {
     "data": {
      "text/html": [
       "<div>\n",
       "<style scoped>\n",
       "    .dataframe tbody tr th:only-of-type {\n",
       "        vertical-align: middle;\n",
       "    }\n",
       "\n",
       "    .dataframe tbody tr th {\n",
       "        vertical-align: top;\n",
       "    }\n",
       "\n",
       "    .dataframe thead th {\n",
       "        text-align: right;\n",
       "    }\n",
       "</style>\n",
       "<table border=\"1\" class=\"dataframe\">\n",
       "  <thead>\n",
       "    <tr style=\"text-align: right;\">\n",
       "      <th></th>\n",
       "      <th>id</th>\n",
       "      <th>buy</th>\n",
       "    </tr>\n",
       "  </thead>\n",
       "  <tbody>\n",
       "    <tr>\n",
       "      <th>0</th>\n",
       "      <td>39162</td>\n",
       "      <td>1</td>\n",
       "    </tr>\n",
       "    <tr>\n",
       "      <th>1</th>\n",
       "      <td>39163</td>\n",
       "      <td>0</td>\n",
       "    </tr>\n",
       "    <tr>\n",
       "      <th>2</th>\n",
       "      <td>39164</td>\n",
       "      <td>0</td>\n",
       "    </tr>\n",
       "    <tr>\n",
       "      <th>3</th>\n",
       "      <td>39165</td>\n",
       "      <td>1</td>\n",
       "    </tr>\n",
       "    <tr>\n",
       "      <th>4</th>\n",
       "      <td>39166</td>\n",
       "      <td>0</td>\n",
       "    </tr>\n",
       "  </tbody>\n",
       "</table>\n",
       "</div>"
      ],
      "text/plain": [
       "      id  buy\n",
       "0  39162    1\n",
       "1  39163    0\n",
       "2  39164    0\n",
       "3  39165    1\n",
       "4  39166    0"
      ]
     },
     "execution_count": 20,
     "metadata": {},
     "output_type": "execute_result"
    }
   ],
   "source": [
    "Submission = pd.DataFrame({'id':df_test['id'].values})\n",
    "Submission['buy']=y_test\n",
    "\n",
    "Submission.head()"
   ]
  },
  {
   "cell_type": "code",
   "execution_count": 21,
   "id": "4835ff86",
   "metadata": {
    "ExecuteTime": {
     "end_time": "2022-06-05T13:22:18.991762Z",
     "start_time": "2022-06-05T13:22:18.969312Z"
    }
   },
   "outputs": [
    {
     "data": {
      "text/html": [
       "<div>\n",
       "<style scoped>\n",
       "    .dataframe tbody tr th:only-of-type {\n",
       "        vertical-align: middle;\n",
       "    }\n",
       "\n",
       "    .dataframe tbody tr th {\n",
       "        vertical-align: top;\n",
       "    }\n",
       "\n",
       "    .dataframe thead th {\n",
       "        text-align: right;\n",
       "    }\n",
       "</style>\n",
       "<table border=\"1\" class=\"dataframe\">\n",
       "  <thead>\n",
       "    <tr style=\"text-align: right;\">\n",
       "      <th></th>\n",
       "      <th>id</th>\n",
       "      <th>buy</th>\n",
       "    </tr>\n",
       "  </thead>\n",
       "  <tbody>\n",
       "    <tr>\n",
       "      <th>0</th>\n",
       "      <td>39162</td>\n",
       "      <td>1</td>\n",
       "    </tr>\n",
       "  </tbody>\n",
       "</table>\n",
       "</div>"
      ],
      "text/plain": [
       "      id  buy\n",
       "0  39162    1"
      ]
     },
     "execution_count": 21,
     "metadata": {},
     "output_type": "execute_result"
    }
   ],
   "source": [
    "Submission.head(1)"
   ]
  },
  {
   "cell_type": "code",
   "execution_count": null,
   "id": "21716d4f",
   "metadata": {
    "ExecuteTime": {
     "end_time": "2022-06-05T13:22:19.064314Z",
     "start_time": "2022-06-05T13:22:19.004343Z"
    }
   },
   "outputs": [],
   "source": [
    "Submission.to_csv('sample_submission_xgboost_9.csv', index=False)"
   ]
  },
  {
   "cell_type": "code",
   "execution_count": null,
   "id": "a918cd83",
   "metadata": {},
   "outputs": [],
   "source": []
  }
 ],
 "metadata": {
  "kernelspec": {
   "display_name": "Python 3",
   "language": "python",
   "name": "python3"
  },
  "language_info": {
   "codemirror_mode": {
    "name": "ipython",
    "version": 3
   },
   "file_extension": ".py",
   "mimetype": "text/x-python",
   "name": "python",
   "nbconvert_exporter": "python",
   "pygments_lexer": "ipython3",
   "version": "3.8.8"
  }
 },
 "nbformat": 4,
 "nbformat_minor": 5
}
